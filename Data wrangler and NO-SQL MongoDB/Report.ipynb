{
 "cells": [
  {
   "cell_type": "markdown",
   "metadata": {},
   "source": [
    "# OpenStreetMap Sample Project\n",
    "## Data Wrangling with MongoDB\n",
    "### Fernando Teixeira"
   ]
  },
  {
   "cell_type": "markdown",
   "metadata": {},
   "source": [
    "Os dados foram extraídos através do [**Map Zen**](https://mapzen.com/data/metro-extracts/metro/sao-paulo_brazil/) e estão relacionados a **região de São Paulo** conforme figura abaixo:\n",
    "![](img1.png)"
   ]
  },
  {
   "cell_type": "markdown",
   "metadata": {},
   "source": [
    "### Problemas encontrados\n",
    "1. Processamento\n",
    ">1. Tamanho do arquivo\n",
    ">2. Descrições inconsistentes para mesmo grupo de informação\n",
    ">3. Grupo de informação sem descrição correta do tipo de informação\n",
    ">4. Nomes das Cidades"
   ]
  },
  {
   "cell_type": "markdown",
   "metadata": {},
   "source": [
    "### A.Tamanho do arquivo\n",
    "O tamanho do arquivo dificulta a análise em um primeiro, sendo necessário a criação de uma estratégia para trabalhar com todos os dados.\n",
    "> Arquivo possui 58 MB compactado e mais de 800 MB descompactado\n",
    "\n",
    "> Arquivo possui 12.537.231 milhões de linhas\n",
    "\n",
    "> Em torno de 1.700.000 tags\n",
    "\n",
    "Assim o acesso a informação teve ser realizado linha a linha, assim como os tratamentos para fazer a conversão de XML to JSON. A função foi utilizado para gerar a conexão com o arquivo de dados evitando descompactar o arquivo."
   ]
  },
  {
   "cell_type": "raw",
   "metadata": {},
   "source": [
    "def open_files():\n",
    "    filename_zip = 'sao-paulo_brazil.zip'\n",
    "    filename_osm = 'sao-paulo_brazil.osm'\n",
    "    \n",
    "    try:\n",
    "        myzip.close()\n",
    "        myfile.close()\n",
    "    except:\n",
    "        pass\n",
    "    \n",
    "    myzip = zipfile.ZipFile(filename_zip)\n",
    "    myfile = myzip.open(filename_osm)\n",
    "        \n",
    "    return myzip, myfile"
   ]
  },
  {
   "cell_type": "markdown",
   "metadata": {},
   "source": [
    "### B.Descrições inconsistentes para mesmo grupo de informação\n",
    "Antes de importar os dados para MongoDB os seguintes campos foram padronizados para manter a consistência da informação dentro do banco de dados.\n",
    "\n",
    "Campos inconsistentes:\n",
    ">**addr** e **contact** são campos que descrevem informações gerais com um detalhamento como prefixo como, 'addr:city',\n",
    " 'addr:country', 'addr:district','contact:email', 'contact:facebook', 'contact:fax', assim campos do tipo 'addr' e 'contact' são considerados **inconsistentes** e não foram enviados para o MongoDB\n",
    " \n",
    ">Detalhamento incorretos como 'addr:district:name', ao invés de 'addr:district' também foram considerados **inconsistentes** e portanto não passaram pela auditoria dadose e por consequência também não foram enviados para o MongoDB\n",
    "\n",
    "<br>\n",
    "<br>\n",
    "<br>\n",
    "\n",
    "### C.Grupo de informação sem descrição correta do tipo de informação\n",
    "\n",
    "Nas tags do arquivo XML temos que algumas **keys** contém descrições inconsistentes como highway, highway_1, highway_2, leisure_1, leisure_2, leisure_3, natural, natural_1, natural_2.\n",
    "\n",
    "Os campos que possuem prefixos podem ser colocados como pertencentes ao um único grupo, como exemplo:\n",
    ">Highway_1 possui os seguintes valores encontrados {'footway', 'redlight_camera', 'speed_camera', 'traffic_signals'}\n",
    "\n",
    ">Highway_2 possui os seguintes valores encontrados {'speed_camara'} (erro de grafia)\n",
    "\n",
    "Portanto, podemos fazer highway_1 e highway_2 serem armazenadas como highway, ou seja, foi necessáirio realizar o **cleaning data** antes de dar upload to MongoDB.\n",
    "\n",
    "Essa abordagem é utilizada nas demais inconsistências citadas.\n"
   ]
  },
  {
   "cell_type": "markdown",
   "metadata": {},
   "source": [
    "#### D.Nomes das Cidades"
   ]
  },
  {
   "cell_type": "raw",
   "metadata": {},
   "source": [
    "db.osm.distinct('addr.city')"
   ]
  },
  {
   "cell_type": "markdown",
   "metadata": {},
   "source": [
    "Usando o consulta acima combinado com um conjunto é possível encontrar que, por exemplo, a cidade de **São Paulo** possui nomes como 'Sao paulo', 'SÃO PAULO', 'Sâo Paulo',  'São Paulo', 'São Paulol',  'São paulo',  'sao paulo', 'são Paulo', 'são paulo'.\n",
    "\n",
    "Vemos que existem erros de grafia.\n",
    "\n",
    "Existe o caso da cidade receber o nome de **'sp'** o que não garante que se trata da cidade de São Paulo. <br>\n",
    "Usando a consulta do MongoDB:"
   ]
  },
  {
   "cell_type": "raw",
   "metadata": {},
   "source": [
    "db.osm.find_one({'addr.city':'sp'})"
   ]
  },
  {
   "cell_type": "markdown",
   "metadata": {},
   "source": [
    "Encontrei uma **única** ocorrência:\n",
    "\n",
    "{'_id': ObjectId('58cc96c6c1a45f129c02c59d'),\n",
    " 'addr': {'city': 'sp',\n",
    "  'housenumber': '1195',\n",
    "  'postcode': '08265-000',\n",
    "  'street': 'Avenida Adriano Bertozzi',\n",
    "  'suburb': 'Jardim Helian'},\n",
    " 'changeset': '35744724',\n",
    " 'id': '3876083747',\n",
    " 'pos': [-46.457189, -23.5747499],\n",
    " 'timestamp': '2015-12-04T11:05:26Z',\n",
    " 'type': 'node',\n",
    " 'uid': '3433372',\n",
    " 'user': 'thainna',\n",
    " 'version': '1'}\n",
    " \n",
    "Usando a rua descrita, temos que se trata realmente da cidade de São Paulo (imagem abaixo).\n",
    "![](img2.png)"
   ]
  },
  {
   "cell_type": "markdown",
   "metadata": {},
   "source": [
    "A seguinte Query faz o **Update** de todos os campos e traz **consistência** a base de dados."
   ]
  },
  {
   "cell_type": "raw",
   "metadata": {},
   "source": [
    "for i,right in enumerate(['Sao paulo', 'SÃO PAULO', 'Sâo Paulo', 'São Paulo', 'São Paulol', 'São paulo', 'sao paulo',\n",
    "                               'são Paulo', 'são paulo','sp']):\n",
    "    db.osm.update_many({'addr.city':i},{'$set':{'addr.city':'São Paulo'}})\n",
    "    sys.stdout.write('\\rIteracao:' + str(i))"
   ]
  },
  {
   "cell_type": "markdown",
   "metadata": {},
   "source": [
    "Uma das cidades tem nome  '06097-100' ou 'Dona Catarina, Mairinque' e nesses caso foi deletada a primeira foi deletada e a segunda corrigida."
   ]
  },
  {
   "cell_type": "markdown",
   "metadata": {},
   "source": [
    "# Visão geral dos Dados"
   ]
  },
  {
   "cell_type": "markdown",
   "metadata": {},
   "source": [
    "#### Quantidade de documentos\n",
    "    db.osm.find().count()\n",
    "    4539325\n",
    "#### Quantidade de nodes\n",
    "    db.osm.find({'type':'node'}).count()\n",
    "    3987104\n",
    "#### Quantidade de ways\n",
    "    db.osm.find({'type':'way'}).count()\n",
    "    552221\n",
    "#### Quantidade de users\n",
    "    len(db.osm.distinct('user'))\n",
    "    2158\n",
    "#### Cidade que é mais citada em endereços\n",
    "    db.osm.aggregate([{'$group':{'_id':'$addr.city','count':{'$sum':1}}},{'$sort':{'count':-1}}])\n",
    "    {'_id': None, 'count': 4512415}\n",
    "    {'_id': 'São Paulo', 'count': 21580}\n",
    "    {'_id': 'São Bernardo do Campo', 'count': 2259}\n",
    "\n",
    "#### Usuários com a maior contribuição\n",
    "    db.osm.aggregate([{'$group':{'_id':'$user','count':{'$sum':1}}},{'$sort':{'count':-1}}])\n",
    "    {'_id': 'Bonix-Mapper', 'count': 2343124}\n",
    "    {'_id': 'AjBelnuovo', 'count': 250691}\n",
    "    {'_id': 'cxs', 'count': 192443}\n",
    "Vemos que as maiores contribuições de informação não incluem a cidade."
   ]
  },
  {
   "cell_type": "markdown",
   "metadata": {},
   "source": [
    "# Ideias adicionais"
   ]
  },
  {
   "cell_type": "markdown",
   "metadata": {},
   "source": [
    "Vemos que a maioria dos usuários contribuem sem colocar o endereço da cidade, então que seriam os grandes contribuidores para identificação correta da cidade?"
   ]
  },
  {
   "cell_type": "markdown",
   "metadata": {},
   "source": [
    "#### Maior contribuidor de informações que contém a cidade no endereço\n",
    "    db.osm.aggregate([    \n",
    "        {'$match':\n",
    "            {'addr.city':{'$exists':1}}},\n",
    "        {'$project':\n",
    "            {'city':'$addr.city','user':'$user'}},\n",
    "        {'$group': {'_id':{'Usuario':{'user':'$user'},'Cidade':{'city':'$city'}},'count':{'$sum':1}}},{'$sort':{'count':-1}},\n",
    "        {'$limit':5}\n",
    "    ])\n",
    "    \n",
    "    {'_id': {'Usuario': {'user': 'O Fim'}, 'Cidade': {'city': 'São Paulo'}}, 'count': 16376}\n",
    "    {'_id': {'Usuario': {'user': 'Bonix-Mapper'}, 'Cidade': {'city': 'São Paulo'}}, 'count': 2887}\n",
    "    {'_id': {'Usuario': {'user': 'AjBelnuovo'}, 'Cidade': {'city': 'São Bernardo do Campo'}}, 'count': 1853}\n",
    "    {'_id': {'Usuario': {'user': 'naoliv'}, 'Cidade': {'city': 'São Paulo'}}, 'count': 556}\n",
    "    {'_id': {'Usuario': {'user': 'AjBelnuovo'}, 'Cidade': {'city': 'São Paulo'}}, 'count': 295}"
   ]
  },
  {
   "cell_type": "markdown",
   "metadata": {},
   "source": [
    "Vemos que o maior na identificação da cidade nas tags que contém endereço é 'O Fim', ao contrário da contribuição geral onde o principal é 'Bonix-Mapper' que pelo tamanho da contribuição realmente dedicou muito tempo.\n",
    "\n",
    "O usário 'Bonix-Mapper' possui segundo a query abaixo:"
   ]
  },
  {
   "cell_type": "markdown",
   "metadata": {},
   "source": [
    "    db.osm.aggregate([{'$group': {'_id':'$user', 'count':{'$sum':1}}},{'$sort':{'count':-1}}])\n",
    "    {'_id': 'Bonix-Mapper', 'count': 2343124}\n",
    "    {'_id': 'AjBelnuovo', 'count': 250691}"
   ]
  },
  {
   "cell_type": "markdown",
   "metadata": {},
   "source": [
    "    \n",
    "'Bonix-Mapper' fez 2343124 contribuições, enquanto o segundo colocado 250691, ou seja, 9.34 vezes mais contribuições que se concentram em criar nodes e ways, mas não no detalhamento dessas tags e assim aparece com poucas tags que tem a cidade como endereço.\n",
    "Em geral os usuários se concetram em marcar elementos das regiões mas não em detalhar cada região com dados macros como cidade e até rua, se fizermos uma consulta sobre as contribuições para nomes de ruas:"
   ]
  },
  {
   "cell_type": "markdown",
   "metadata": {},
   "source": [
    "    db.osm.aggregate([{'$match':\n",
    "                 {'addr.street':{'$exists':1}}},\n",
    "                {'$project':{'rua':'$addr.street','user':'$user'}},\n",
    "                {'$group':{'_id':{'Usuario':{'user':'$user'},'Rua':{'Rua':'$rua'}},'count':{'$sum':1}}},{'$sort':{'count':-1}},\n",
    "                {'$limit':5}\n",
    "                 ])\n",
    "                 \n",
    "    {'_id': {'Rua': {'Rua': 'Avenida Conceição'}, 'Usuario': {'user': 'O Fim'}}, 'count': 494}\n",
    "    {'_id': {'Rua': {'Rua': 'Rua Oriente'}, 'Usuario': {'user': 'O Fim'}}, 'count': 354}\n",
    "    {'_id': {'Rua': {'Rua': 'Rua Maria Marcolina'}, 'Usuario': {'user': 'O Fim'}}, 'count': 324}\n",
    "    {'_id': {'Rua': {'Rua': 'Rua Bresser'}, 'Usuario': {'user': 'O Fim'}}, 'count': 277}\n",
    "    {'_id': {'Rua': {'Rua': 'Rua Miller'}, 'Usuario': {'user': 'O Fim'}}, 'count': 220}\n",
    "\n",
    "O usuário 'O Fim' é o maior contribuidor para identificação de ruas, mas a quantidade é bem pequena perto da quantidade de nodes que ele criou.    "
   ]
  },
  {
   "cell_type": "markdown",
   "metadata": {},
   "source": [
    "# Conclusão"
   ]
  },
  {
   "cell_type": "markdown",
   "metadata": {},
   "source": [
    "A contribuição de poucos usuários e a falta de padrão de preenchimento criam um problema para o aumento e qualidade do OpenStreetMap.\n",
    "Uma query que use os dados de localização latitude e longitude poderia adicionar aos endereços as cidades correspondentes e outra query poderia analisar o nome das cidades e corrigir erros de grafia.\n",
    "\n",
    "Assim o OpenStreetMap poderia ser mais chamativo para o grande público, ao invés das contribuições virem de um pequeno grupo."
   ]
  }
 ],
 "metadata": {
  "kernelspec": {
   "display_name": "Python [default]",
   "language": "python",
   "name": "python3"
  },
  "language_info": {
   "codemirror_mode": {
    "name": "ipython",
    "version": 3
   },
   "file_extension": ".py",
   "mimetype": "text/x-python",
   "name": "python",
   "nbconvert_exporter": "python",
   "pygments_lexer": "ipython3",
   "version": "3.5.2"
  }
 },
 "nbformat": 4,
 "nbformat_minor": 1
}
