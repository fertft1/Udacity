{
 "cells": [
  {
   "cell_type": "code",
   "execution_count": 1,
   "metadata": {
    "collapsed": true
   },
   "outputs": [],
   "source": [
    "#!/usr/bin/python\n",
    "import sys\n",
    "import pickle\n",
    "import os\n",
    "sys.path.append(\"../tools/\")"
   ]
  },
  {
   "cell_type": "code",
   "execution_count": 2,
   "metadata": {},
   "outputs": [
    {
     "name": "stderr",
     "output_type": "stream",
     "text": [
      "C:\\Users\\Fernando\\Miniconda3\\envs\\py27\\lib\\site-packages\\sklearn\\cross_validation.py:41: DeprecationWarning: This module was deprecated in version 0.18 in favor of the model_selection module into which all the refactored classes and functions are moved. Also note that the interface of the new CV iterators are different from that of this module. This module will be removed in 0.20.\n",
      "  \"This module will be removed in 0.20.\", DeprecationWarning)\n"
     ]
    }
   ],
   "source": [
    "from feature_format import featureFormat, targetFeatureSplit\n",
    "from tester import dump_classifier_and_data"
   ]
  },
  {
   "cell_type": "code",
   "execution_count": 3,
   "metadata": {
    "collapsed": true
   },
   "outputs": [],
   "source": [
    "from matplotlib import pyplot as plt\n",
    "import numpy as np\n",
    "from collections import defaultdict\n",
    "%matplotlib inline"
   ]
  },
  {
   "cell_type": "markdown",
   "metadata": {},
   "source": [
    "# Funções definidas\n",
    "Funções foram criadas ao longo do código para facilitar a manipulação dos dados. Todas as funções no início do código."
   ]
  },
  {
   "cell_type": "code",
   "execution_count": 4,
   "metadata": {
    "collapsed": true
   },
   "outputs": [],
   "source": [
    "def F_RetirarNaNs(data_dict):\n",
    "    '''\n",
    "    Retira os NaNs \n",
    "    data_dict: dicionário com diversas features para cada pessoa\n",
    "    return: dicionário de entrada, exceto as features que possuem valor NaN\n",
    "    '''\n",
    "    \n",
    "    for k1, v1 in data_dict.iteritems():\n",
    "        data_dict[k1] = {key:value for key, value in v1.iteritems() if value != 'NaN'}\n",
    "    \n",
    "    return data_dict"
   ]
  },
  {
   "cell_type": "code",
   "execution_count": 5,
   "metadata": {
    "collapsed": true
   },
   "outputs": [],
   "source": [
    "def F_FeatureScalling(data_dict, not_scale, features):\n",
    "    '''\n",
    "    Cria nova escala para features de cada pessoa no dicionário de entrada\n",
    "    data_dict: dicionário com diversas features para cada pessoa\n",
    "    not_scale: features que não devem ser alteradas\n",
    "    return: tuple com features do dicionário em nova escala e um dicionário com o conversor de escalas\n",
    "    '''\n",
    "    \n",
    "    from sklearn.preprocessing import MinMaxScaler\n",
    "    \n",
    "    #Criar escala para cada feature\n",
    "    scale_feature = dict()\n",
    "    for feature in features: \n",
    "        if not feature in not_scale:\n",
    "            scale_feature[feature] = MinMaxScaler()\n",
    "            scale_feature[feature].fit_transform(np.array([data_dict[key][feature]\n",
    "                                                for key in data_dict.keys()\n",
    "                                                if feature in data_dict[key].keys()]).reshape(-1,1))\n",
    "    \n",
    "    #Aplicar escala sobre os campos de interesse\n",
    "    for k1, v1 in data_dict.iteritems():\n",
    "        for key, value in v1.iteritems():\n",
    "            if key in features and not key in not_scale:\n",
    "                data_dict[k1][key] = scale_feature[key].transform(np.array(value).reshape(-1,1))[0][0]\n",
    "            else:\n",
    "                data_dict[k1][key] = value\n",
    "    \n",
    "    return data_dict, scale_feature"
   ]
  },
  {
   "cell_type": "code",
   "execution_count": 6,
   "metadata": {
    "collapsed": true
   },
   "outputs": [],
   "source": [
    "def F_OrdemFeatures(data_dict, features):\n",
    "    '''\n",
    "    Retorna uma lista com as features ordenadas por valor\n",
    "    data_dict: dicionários com as features\n",
    "    features: features a serem ordenadas\n",
    "    return: lista com ordem das features\n",
    "    '''\n",
    "    \n",
    "    ordem = {}\n",
    "    \n",
    "    for feature in features:\n",
    "        \n",
    "        aux = {keys: values[feature] for keys, values in data_dict.items() if feature in values.keys()}\n",
    "        \n",
    "        ordem[feature] = sorted(aux.keys(), key=lambda x:data_dict[x][feature])\n",
    "        \n",
    "    return ordem"
   ]
  },
  {
   "cell_type": "code",
   "execution_count": 7,
   "metadata": {
    "collapsed": true
   },
   "outputs": [],
   "source": [
    "def F_PlotOutliers(test_list, ordem):\n",
    "    '''\n",
    "    Criar gráfico com valores ordenados\n",
    "    test_list: lista com os dados\n",
    "    ordem: ordem de plotagem \n",
    "    return: maiores valores em cada gráfico (análise de outliers)\n",
    "    '''\n",
    "    \n",
    "    outliers_dict = {}\n",
    "    n_dados = len(test_list)\n",
    "    \n",
    "    f, gp = plt.subplots(n_dados,1, sharex= True)\n",
    "\n",
    "    f.set_figheight((2.5*n_dados)//2+1)\n",
    "    f.set_figwidth(15)\n",
    "\n",
    "    for jj, feature in enumerate(test_list):\n",
    "        max_value = 0\n",
    "        person = ''\n",
    "        \n",
    "        try:\n",
    "\n",
    "            for ii, point in enumerate(ordem[feature]):\n",
    "                if feature in data_dict[point]:\n",
    "\n",
    "                    salary = data_dict[point][feature]\n",
    "\n",
    "                    if max_value < salary:\n",
    "                        max_value = salary\n",
    "                        person = point\n",
    "\n",
    "                    #Registrando os valores extremos encontrados\n",
    "                    outliers_dict[feature] = [max_value, person]\n",
    "\n",
    "                    gp[jj].scatter(ii, salary)\n",
    "\n",
    "                gp[jj].set_title(feature)\n",
    "        except:\n",
    "            pass\n",
    "\n",
    "    plt.show()\n",
    "    \n",
    "    return outliers_dict"
   ]
  },
  {
   "cell_type": "code",
   "execution_count": 8,
   "metadata": {
    "collapsed": true
   },
   "outputs": [],
   "source": [
    "def F_PessoaEmail(dir_, address):\n",
    "    \n",
    "    '''\n",
    "    Procura no repositório dir_ o endereço de destino contido no email\n",
    "    dir_: diretório dos emails\n",
    "    address: email procurado\n",
    "    '''\n",
    "    lista = []\n",
    "    if email in address.keys():\n",
    "        with open('{}/{}'.format(dir_, address[email], 'r')) as fl:\n",
    "            lista = [line.split('/')[2] for line in fl]\n",
    "    \n",
    "    return lista"
   ]
  },
  {
   "cell_type": "code",
   "execution_count": 9,
   "metadata": {
    "collapsed": true
   },
   "outputs": [],
   "source": [
    "def F_ExtraiPoisAbreviados(data_dict):\n",
    "    '''\n",
    "    Extrair os POis e abrevia os nomes pela regra de sobrenome-Nome(primeira letra), exemplo, Kenneth Lee Lay para lay-k\n",
    "    data_dict: dicionário com dados das pessoas\n",
    "    return: dictionary com nomes convertidos por pessoa\n",
    "    '''\n",
    "\n",
    "    aux_list = {}\n",
    "    for ii in [key for key, value in data_dict.items() if value['poi']==True]:\n",
    "        string = ii.split(' ')\n",
    "        name = string[0]\n",
    "\n",
    "        second_name = string[1][0] if len(string) in [3,2] else string[2][0]\n",
    "        \n",
    "        try:\n",
    "            aux_list[data_dict[ii]['email_address']] = '-'.join([name, second_name]).lower()\n",
    "        except:\n",
    "            print 'Erro na chave {key}'.format(key=ii)\n",
    "        \n",
    "    return aux_list"
   ]
  },
  {
   "cell_type": "code",
   "execution_count": 10,
   "metadata": {
    "collapsed": true
   },
   "outputs": [],
   "source": [
    "def F_StatMsg(email, aux_list):\n",
    "    '''\n",
    "    Retorna a quantidade de e-mails trocados com POis\n",
    "    email: dictionary com os destinos dos emails enviados por uma pessoa\n",
    "    return: dictionary com contagem do total de emails enviados para POis para cada indivíduo\n",
    "    '''\n",
    "    \n",
    "    count, ratio = {}, {}\n",
    "    for key in email.keys():\n",
    "        \n",
    "        aux = aux_list.copy()\n",
    "        if key in aux.keys():\n",
    "        #Não contar a própria pessoa -- acontece quando a pessoa é um poi\n",
    "            aux.pop(key)\n",
    "        \n",
    "        #Somente os que são poi\n",
    "        lista = [ii for ii in email[key] if ii in aux.values()]\n",
    "        \n",
    "        #total de poi com troca de mensagens\n",
    "        count[key] = len(set(lista))\n",
    "        \n",
    "        #razao entre mensagens com poi e total de mensagens\n",
    "        if len(email[key])>0:\n",
    "            ratio[key] = len(lista)/float(len(email[key]))\n",
    "        else:\n",
    "            ratio[key]= 0\n",
    "    \n",
    "    return count, ratio"
   ]
  },
  {
   "cell_type": "code",
   "execution_count": 11,
   "metadata": {
    "collapsed": true
   },
   "outputs": [],
   "source": [
    "def F_VerificarExisteFeature():\n",
    "    '''Verificar se existe chave sem alguma característica \n",
    "        return: key e feature faltante, além da quantidade de keys que precisam ser corrigidas\n",
    "    '''\n",
    "    \n",
    "    person_feature = defaultdict(list)\n",
    "    \n",
    "    all_features = {key for key, value in my_dataset.items() if all(ii == features_list for ii in value.keys())}\n",
    "    all_persons = {key for key in my_dataset.keys()}\n",
    "    \n",
    "    #procura as pessoas que não tem todas as features e encontra a features faltante\n",
    "    for jj in all_persons - all_features:\n",
    "        for ii in features_list:\n",
    "            if not ii in my_dataset[jj].keys():\n",
    "                person_feature[jj].append(ii)\n",
    "    \n",
    "    print 'Quantidade de pessoas com falta de informações, ', len(person_feature)\n",
    "    return person_feature"
   ]
  },
  {
   "cell_type": "markdown",
   "metadata": {},
   "source": [
    "As features selecionadas tem relação com ganhos financeiros e gastos. Novas features serão adicionadas para criar relações de network entre as pessoas no dataset, através dos e-mails."
   ]
  },
  {
   "cell_type": "code",
   "execution_count": 12,
   "metadata": {
    "collapsed": true
   },
   "outputs": [],
   "source": [
    "### Task 1: Select what features you'll use.\n",
    "### features_list is a list of strings, each of which is a feature name.\n",
    "### The first feature must be \"poi\".\n",
    "features_list = ['poi','salary','total_payments', 'bonus', 'total_stock_value', 'expenses', \n",
    "                 'exercised_stock_options', 'restricted_stock','shared_receipt_with_poi','ratio_to','ratio_from'] "
   ]
  },
  {
   "cell_type": "code",
   "execution_count": 13,
   "metadata": {
    "collapsed": true
   },
   "outputs": [],
   "source": [
    "### Load the dictionary containing the dataset\n",
    "with open(\"final_project_dataset.pkl\", \"r\") as data_file:\n",
    "    data_dict = pickle.load(data_file)"
   ]
  },
  {
   "cell_type": "markdown",
   "metadata": {},
   "source": [
    "# Familiarização com os dados\n",
    "\n",
    "Análise sobre as características da base de dados."
   ]
  },
  {
   "cell_type": "markdown",
   "metadata": {},
   "source": [
    "#### Quantidades de POIs e Non-POIs"
   ]
  },
  {
   "cell_type": "code",
   "execution_count": 14,
   "metadata": {},
   "outputs": [
    {
     "name": "stdout",
     "output_type": "stream",
     "text": [
      "Quantidade de data points 146\n",
      "Quatidade de pois 18\n",
      "Quantidade de non-pois 128\n"
     ]
    }
   ],
   "source": [
    "pois = set( key for key, value in data_dict.items() if value['poi'] == True)\n",
    "non_pois = set( key for key, value in data_dict.items() if value['poi'] == False)\n",
    "\n",
    "print 'Quantidade de data points ' + str(len(pois | non_pois))\n",
    "print 'Quatidade de pois ' + str(len(pois))\n",
    "print 'Quantidade de non-pois ' + str(len(non_pois))"
   ]
  },
  {
   "cell_type": "markdown",
   "metadata": {},
   "source": [
    "#### Features no data point - quantidade e tipo \n",
    "\n",
    "Nosso data set inicial contém 3 tipos de dados:\n",
    "* Financeiro (em dólares - numérico)\n",
    "> * salary \n",
    "> * deferral_payments \n",
    "> * total_payments \n",
    "> * loan_advances \n",
    "> * bonus \n",
    "> * restricted_stock_deferred \n",
    "> * deferred_income \n",
    "> * total_stock_value \n",
    "> * expenses \n",
    "> * exercised_stock_options \n",
    "> * other \n",
    "> * long_term_incentive \n",
    "> * restricted_stock\n",
    "> * director_fees\n",
    "* e-mail (text string)\n",
    "> * to_messages\n",
    "> * email_address\n",
    "> * from_poi_to_this_person\n",
    "> * from_messages\n",
    "> * from_this_person_to_poi\n",
    "> * shared_receipt_with_poi\n",
    "* POI \n",
    "> * Booleano - True/False se a pessoa é um poi (person of interest)"
   ]
  },
  {
   "cell_type": "markdown",
   "metadata": {},
   "source": [
    "#### Aplicação de Machine Learning\n",
    "A partir do data point temos uma relação de features e um target (feature POI).\n",
    "\n",
    "Nosso objetivo é identificar os POis e Non-Pois no data set, ou seja, precisamos classificar cada pessoa no data set. Para realizar esses trabalho temos como ferramenta os vários algoritmos de machine learning que através de uma base de treino contendo features e targets conseguem aprender a classificar de forma generalizada (necessário controlar overfitting) se uma pessoa é um POI através de suas features (as mesmas contidas no treinamento).\n",
    "\n",
    "Para generalizar o classificador precisamos escolher quais features trazem informações para melhorar a assertividade do classificador das que criam ruídos e consequentemente pioram dos resultados de métricas de desempenho como acurácia, precisão e recall."
   ]
  },
  {
   "cell_type": "markdown",
   "metadata": {},
   "source": [
    "#### Valores NaN"
   ]
  },
  {
   "cell_type": "code",
   "execution_count": 15,
   "metadata": {
    "collapsed": true
   },
   "outputs": [],
   "source": [
    "from collections import Counter\n",
    "counter = Counter()\n",
    "for key, value in data_dict.items():\n",
    "    for key_value, value_value in value.items():\n",
    "        if value_value == 'NaN':\n",
    "            counter[key_value] += 1"
   ]
  },
  {
   "cell_type": "code",
   "execution_count": 16,
   "metadata": {},
   "outputs": [
    {
     "data": {
      "text/plain": [
       "Counter({'bonus': 64,\n",
       "         'deferral_payments': 107,\n",
       "         'deferred_income': 97,\n",
       "         'director_fees': 129,\n",
       "         'email_address': 35,\n",
       "         'exercised_stock_options': 44,\n",
       "         'expenses': 51,\n",
       "         'from_messages': 60,\n",
       "         'from_poi_to_this_person': 60,\n",
       "         'from_this_person_to_poi': 60,\n",
       "         'loan_advances': 142,\n",
       "         'long_term_incentive': 80,\n",
       "         'other': 53,\n",
       "         'restricted_stock': 36,\n",
       "         'restricted_stock_deferred': 128,\n",
       "         'salary': 51,\n",
       "         'shared_receipt_with_poi': 60,\n",
       "         'to_messages': 60,\n",
       "         'total_payments': 21,\n",
       "         'total_stock_value': 20})"
      ]
     },
     "execution_count": 16,
     "metadata": {},
     "output_type": "execute_result"
    }
   ],
   "source": [
    "counter"
   ]
  },
  {
   "cell_type": "code",
   "execution_count": 17,
   "metadata": {
    "collapsed": true
   },
   "outputs": [],
   "source": [
    "y = [i for _, i in counter.most_common()]\n",
    "x = [i for i, _ in counter.most_common()]"
   ]
  },
  {
   "cell_type": "code",
   "execution_count": 18,
   "metadata": {
    "scrolled": false
   },
   "outputs": [
    {
     "data": {
      "image/png": "[encoded data removed]",
      "text/plain": [
       "<matplotlib.figure.Figure at 0x8147c88>"
      ]
     },
     "metadata": {},
     "output_type": "display_data"
    }
   ],
   "source": [
    "plt.figure(figsize=(20,8))\n",
    "plt.hlines(y=146, xmin=0, xmax=20, colors='steelblue')\n",
    "plt.bar(range(len(y)), y)\n",
    "plt.xticks(range(len(y)),x, rotation = 45, fontsize = 12)\n",
    "plt.title('Quantidade de NaNs por feature')\n",
    "plt.show()"
   ]
  },
  {
   "cell_type": "markdown",
   "metadata": {},
   "source": [
    "Vemos pelo gráfico temos que algumas características possuem muitos valores NaN. Esses valores serão tratados nos passos seguintes e serão analisados os casos em faz sentido substituit NaN por algum valor como 0.\n",
    "\n",
    "Como nossa base de dados é pequena, excluir dados pode inviabilizar o classificador, pois este não estaria apto a generalizar o resultado, a partir, do treinamento com small data."
   ]
  },
  {
   "cell_type": "markdown",
   "metadata": {},
   "source": [
    "# Cleaning Data\n",
    "Temos que alguns campos estão como 'NaN', logo estes campos não serão considerados neste momento para facilitar a análise de outliers (análise gráfica) e outras análises que a falta de dados pode enviesar. Se os campos com 'NaN' estiverem na feature_list eles serão futuramente adicionados com valor 0."
   ]
  },
  {
   "cell_type": "markdown",
   "metadata": {},
   "source": [
    "Antes de retirar os valores NaN"
   ]
  },
  {
   "cell_type": "code",
   "execution_count": 19,
   "metadata": {},
   "outputs": [
    {
     "data": {
      "text/plain": [
       "{'bonus': 600000,\n",
       " 'deferral_payments': 'NaN',\n",
       " 'deferred_income': 'NaN',\n",
       " 'director_fees': 'NaN',\n",
       " 'email_address': 'mark.metts@enron.com',\n",
       " 'exercised_stock_options': 'NaN',\n",
       " 'expenses': 94299,\n",
       " 'from_messages': 29,\n",
       " 'from_poi_to_this_person': 38,\n",
       " 'from_this_person_to_poi': 1,\n",
       " 'loan_advances': 'NaN',\n",
       " 'long_term_incentive': 'NaN',\n",
       " 'other': 1740,\n",
       " 'poi': False,\n",
       " 'restricted_stock': 585062,\n",
       " 'restricted_stock_deferred': 'NaN',\n",
       " 'salary': 365788,\n",
       " 'shared_receipt_with_poi': 702,\n",
       " 'to_messages': 807,\n",
       " 'total_payments': 1061827,\n",
       " 'total_stock_value': 585062}"
      ]
     },
     "execution_count": 19,
     "metadata": {},
     "output_type": "execute_result"
    }
   ],
   "source": [
    "data_dict['METTS MARK']"
   ]
  },
  {
   "cell_type": "code",
   "execution_count": 20,
   "metadata": {
    "collapsed": true
   },
   "outputs": [],
   "source": [
    "data_dict = F_RetirarNaNs(data_dict)"
   ]
  },
  {
   "cell_type": "markdown",
   "metadata": {},
   "source": [
    "Após ser retirado os NaNs"
   ]
  },
  {
   "cell_type": "code",
   "execution_count": 21,
   "metadata": {},
   "outputs": [
    {
     "data": {
      "text/plain": [
       "{'bonus': 600000,\n",
       " 'email_address': 'mark.metts@enron.com',\n",
       " 'expenses': 94299,\n",
       " 'from_messages': 29,\n",
       " 'from_poi_to_this_person': 38,\n",
       " 'from_this_person_to_poi': 1,\n",
       " 'other': 1740,\n",
       " 'poi': False,\n",
       " 'restricted_stock': 585062,\n",
       " 'salary': 365788,\n",
       " 'shared_receipt_with_poi': 702,\n",
       " 'to_messages': 807,\n",
       " 'total_payments': 1061827,\n",
       " 'total_stock_value': 585062}"
      ]
     },
     "execution_count": 21,
     "metadata": {},
     "output_type": "execute_result"
    }
   ],
   "source": [
    "data_dict['METTS MARK']"
   ]
  },
  {
   "cell_type": "markdown",
   "metadata": {},
   "source": [
    "A pasta email_by_address será utilizada nesse trabalho. Como algumas keys em data_dict não possuem e-mail, essas pessoas serão desconsideradas. Isso reduz a base de dados, mas trará maior consistência do que supor que essas não trocam e-mails."
   ]
  },
  {
   "cell_type": "code",
   "execution_count": 22,
   "metadata": {
    "collapsed": true
   },
   "outputs": [],
   "source": [
    "for key in data_dict.keys():\n",
    "    if not 'email_address' in data_dict[key].keys():\n",
    "        data_dict.pop(key)"
   ]
  },
  {
   "cell_type": "markdown",
   "metadata": {},
   "source": [
    "# Task 2: Remove outliers\n",
    "A análise gráfica será utilizada para descobrir se existem outliers na base de dados."
   ]
  },
  {
   "cell_type": "code",
   "execution_count": 23,
   "metadata": {},
   "outputs": [
    {
     "data": {
      "image/png": "[encoded data removed]",
      "text/plain": [
       "<matplotlib.figure.Figure at 0x8335470>"
      ]
     },
     "metadata": {},
     "output_type": "display_data"
    },
    {
     "data": {
      "text/plain": [
       "{'bonus': [8000000, 'LAVORATO JOHN J'],\n",
       " 'exercised_stock_options': [34348384, 'LAY KENNETH L'],\n",
       " 'expenses': [228763, 'MCCLELLAN GEORGE'],\n",
       " 'from_poi_to_this_person': [528, 'LAVORATO JOHN J'],\n",
       " 'from_this_person_to_poi': [609, 'DELAINEY DAVID W'],\n",
       " 'restricted_stock': [14761694, 'LAY KENNETH L'],\n",
       " 'salary': [1111258, 'SKILLING JEFFREY K'],\n",
       " 'shared_receipt_with_poi': [5521, 'BELDEN TIMOTHY N'],\n",
       " 'total_payments': [103559793, 'LAY KENNETH L'],\n",
       " 'total_stock_value': [49110078, 'LAY KENNETH L']}"
      ]
     },
     "execution_count": 23,
     "metadata": {},
     "output_type": "execute_result"
    }
   ],
   "source": [
    "plot_list = ['salary','total_payments', 'bonus', 'total_stock_value', 'expenses', 'exercised_stock_options', \n",
    "             'restricted_stock', 'from_poi_to_this_person', 'from_this_person_to_poi', 'shared_receipt_with_poi']\n",
    "ordem = F_OrdemFeatures(data_dict, plot_list)\n",
    "F_PlotOutliers(plot_list, ordem)"
   ]
  },
  {
   "cell_type": "markdown",
   "metadata": {},
   "source": [
    "Temos que os valores extremos nos gráficos estão associadas a pessoas com altos cargos na Enron, como:\n",
    "\n",
    "**LAVORATO JOHN J**: Principais executivos\n",
    "\n",
    "**LAY KENNETH L**: fundador e CEO da companhia na época do escândalo\n",
    "\n",
    "**SKILLING JEFFREY K**: fundador e ex-CEO da companhia na época do escândalo\n",
    "\n",
    "Essas pessoas são chefes da companhia, assim possuem salários e bonificações diferenciadas dos demais funcionários e seus dados não podem ser considerados outliers.\n",
    "\n",
    "*É necessário analisar os outros pontos que podem ser outleirs para determinar se também se tratam de pessoas com altos cargos.*"
   ]
  },
  {
   "cell_type": "markdown",
   "metadata": {},
   "source": [
    "### SALARY"
   ]
  },
  {
   "cell_type": "code",
   "execution_count": 24,
   "metadata": {},
   "outputs": [
    {
     "data": {
      "text/plain": [
       "['FREVERT MARK A', 'LAY KENNETH L', 'SKILLING JEFFREY K']"
      ]
     },
     "execution_count": 24,
     "metadata": {},
     "output_type": "execute_result"
    }
   ],
   "source": [
    "ordem['salary'][-3:]"
   ]
  },
  {
   "cell_type": "markdown",
   "metadata": {},
   "source": [
    "Os pontos que poderiam ser outliers são de chefes da companhia. Nesse caso temos que além de **LAY KENNETH L** e **SKILLING JEFFREY K** temos **FREVERT MARK A** que era na época CEO de uma subsidiára do grupo a _Enron Whosale Services_"
   ]
  },
  {
   "cell_type": "markdown",
   "metadata": {},
   "source": [
    "### EXERCISED STOCK OPTIONS"
   ]
  },
  {
   "cell_type": "code",
   "execution_count": 25,
   "metadata": {},
   "outputs": [
    {
     "data": {
      "text/plain": [
       "['HIRKO JOSEPH', 'LAY KENNETH L']"
      ]
     },
     "execution_count": 25,
     "metadata": {},
     "output_type": "execute_result"
    }
   ],
   "source": [
    "ordem['exercised_stock_options'][-2:]"
   ]
  },
  {
   "cell_type": "markdown",
   "metadata": {},
   "source": [
    "Para exercised_stock_options temos dois altos executivos o que justifica os outliers."
   ]
  },
  {
   "cell_type": "markdown",
   "metadata": {},
   "source": [
    "### RESTRICTED STOCK"
   ]
  },
  {
   "cell_type": "code",
   "execution_count": 26,
   "metadata": {},
   "outputs": [
    {
     "data": {
      "text/plain": [
       "['PAI LOU L', 'WHITE JR THOMAS E', 'LAY KENNETH L']"
      ]
     },
     "execution_count": 26,
     "metadata": {},
     "output_type": "execute_result"
    }
   ],
   "source": [
    "ordem['restricted_stock'][-3:]"
   ]
  },
  {
   "cell_type": "markdown",
   "metadata": {},
   "source": [
    "No caso de restricted stock temos pessoas com altos cargos que recebiam remuneração através de ações associadas a desempenho. \n",
    "\n",
    "Temos que as 3 pessoas são altos executivos o que justifica os altos ganhos."
   ]
  },
  {
   "cell_type": "markdown",
   "metadata": {},
   "source": [
    "### EMAILS"
   ]
  },
  {
   "cell_type": "markdown",
   "metadata": {},
   "source": [
    "A quantidade de emails pode variar muito independente da pessoa e cargo devido as funções exercidas, por isso não será considerada um outlier os valores extremos no gráfico."
   ]
  },
  {
   "cell_type": "markdown",
   "metadata": {},
   "source": [
    "Após o cleaning data não existem outliers. O que temos é uma discrepância que pode ser considerada normal dentro de renda de uma companhia."
   ]
  },
  {
   "cell_type": "markdown",
   "metadata": {},
   "source": [
    "# Task 3 --  Create New Features"
   ]
  },
  {
   "cell_type": "markdown",
   "metadata": {},
   "source": [
    "As maioria das features estão relacionadas a finanças, mas como vimos na análise de outliers, os rendimentos podem variar muito dentro de uma companhia. Uma forma de deixar a análise de POis mais robusta e trazer para o dataset as relações entre pessoas e POis.\n",
    "\n",
    "Para trazer a relação entre pessoas no dataset as features relacionadas a envio de e-mails nos auxiliam nesse sentido, mas podemos complementar com a base de dados email_by_address de onde podemos tirar com quantos POis uma pessoa se relacionou enviando ou recebendo e-mails.\n",
    "\n",
    "Essa cria uma nova feature, mas como não temos o e-mail de todas as pessoas no dataset optei por excluir as pessoas sem e-mail, ou seja, aquelas que não podem ser rastreadas (visto em cleaning data). Com isso o dataset fica mais consistente, porém a quantidade de dados que é pequena ficará ainda menor."
   ]
  },
  {
   "cell_type": "markdown",
   "metadata": {},
   "source": [
    "Para cada pessoa em data_dict pego os destinatários dos emails from e to"
   ]
  },
  {
   "cell_type": "code",
   "execution_count": 27,
   "metadata": {
    "collapsed": true
   },
   "outputs": [],
   "source": [
    "email_poi = ((data_dict[key]['email_address'], data_dict[key]['poi']) for key in data_dict.keys() \n",
    "                if 'email_address' in data_dict[key] and 'poi' in data_dict[key])\n",
    "\n",
    "address_from = {file_.split('_')[1][:-4]:file_ for file_ in os.listdir('emails_by_address') if file_.split('_')[0]=='from'}\n",
    "address_to = {file_.split('_')[1][:-4]:file_ for file_ in os.listdir('emails_by_address') if file_.split('_')[0]=='to'}\n",
    "\n",
    "from_, to_ = {}, {}\n",
    "for email, poi in email_poi:\n",
    "    from_[email] = F_PessoaEmail('emails_by_address', address_from)\n",
    "    to_[email] = F_PessoaEmail('emails_by_address', address_to)      "
   ]
  },
  {
   "cell_type": "code",
   "execution_count": 28,
   "metadata": {
    "collapsed": true
   },
   "outputs": [],
   "source": [
    "poi_aux_list = F_ExtraiPoisAbreviados(data_dict)"
   ]
  },
  {
   "cell_type": "code",
   "execution_count": 29,
   "metadata": {},
   "outputs": [
    {
     "data": {
      "text/plain": [
       "{'andrew.fastow@enron.com': 'fastow-a',\n",
       " 'ben.glisan@enron.com': 'glisan-b',\n",
       " 'christopher.calger@enron.com': 'calger-c',\n",
       " 'david.delainey@enron.com': 'delainey-d',\n",
       " 'jeff.skilling@enron.com': 'skilling-j',\n",
       " 'joe.hirko@enron.com': 'hirko-j',\n",
       " 'ken.rice@enron.com': 'rice-k',\n",
       " 'kenneth.lay@enron.com': 'lay-k',\n",
       " 'kevin.hannon@enron.com': 'hannon-k',\n",
       " 'mark.koenig@enron.com': 'koenig-m',\n",
       " 'michael.kopper@enron.com': 'kopper-m',\n",
       " 'paula.rieker@enron.com': 'rieker-p',\n",
       " 'raymond.bowen@enron.com': 'bowen-r',\n",
       " 'rex.shelby@enron.com': 'shelby-r',\n",
       " 'richard.causey@enron.com': 'causey-r',\n",
       " 'scott.yeager@enron.com': 'yeager-f',\n",
       " 'tim.belden@enron.com': 'belden-t',\n",
       " 'wes.colwell@enron.com': 'colwell-w'}"
      ]
     },
     "execution_count": 29,
     "metadata": {},
     "output_type": "execute_result"
    }
   ],
   "source": [
    "poi_aux_list"
   ]
  },
  {
   "cell_type": "markdown",
   "metadata": {},
   "source": [
    "Determinar a quantidade POis com que a pessoa interage por e-mails"
   ]
  },
  {
   "cell_type": "code",
   "execution_count": 30,
   "metadata": {
    "collapsed": true
   },
   "outputs": [],
   "source": [
    "from_count, from_ratio = F_StatMsg(from_, poi_aux_list)\n",
    "to_count, to_ratio = F_StatMsg(to_, poi_aux_list)"
   ]
  },
  {
   "cell_type": "markdown",
   "metadata": {},
   "source": [
    "Aqui tenho as novas características construídas, preciso adicionar ao data_dict\n",
    "\n",
    "from_ratio e to_ratio não serão incluídos, pois existem os campos from_messages, from_poi_to_this_person, from_this_person_to_poi e to_messages que serão combinados para gerar uma feature.\n",
    "\n",
    "As featrues to_count e from_count me dão a quantidade de POis que receberam ou enviaram mensagem para a key no dataset, ou seja, eu tenho a quantidade de relacionamentos com POis de uma determinada pessoa. Podemos supor que pessoas que não trocaram e-mais com POis não tem relação com a fraude da Enron e portanto não são POis."
   ]
  },
  {
   "cell_type": "code",
   "execution_count": 31,
   "metadata": {
    "collapsed": true
   },
   "outputs": [],
   "source": [
    "for key in data_dict.keys():\n",
    "    \n",
    "    email = data_dict[key]['email_address']\n",
    "    \n",
    "    data_dict[key]['from_count'] = from_count[email]\n",
    "    data_dict[key]['to_count'] = to_count[email]"
   ]
  },
  {
   "cell_type": "markdown",
   "metadata": {},
   "source": [
    "Fazendo uam simples verificação se a atualização ocorreu corretamente"
   ]
  },
  {
   "cell_type": "code",
   "execution_count": 32,
   "metadata": {},
   "outputs": [
    {
     "data": {
      "text/plain": [
       "{'bonus': 200000,\n",
       " 'email_address': 'john.echols@enron.com',\n",
       " 'exercised_stock_options': 601438,\n",
       " 'expenses': 21530,\n",
       " 'from_count': 0,\n",
       " 'long_term_incentive': 2234774,\n",
       " 'other': 53775,\n",
       " 'poi': False,\n",
       " 'restricted_stock': 407503,\n",
       " 'salary': 182245,\n",
       " 'to_count': 0,\n",
       " 'total_payments': 2692324,\n",
       " 'total_stock_value': 1008941}"
      ]
     },
     "execution_count": 32,
     "metadata": {},
     "output_type": "execute_result"
    }
   ],
   "source": [
    "data_dict[data_dict.keys()[27]]"
   ]
  },
  {
   "cell_type": "markdown",
   "metadata": {},
   "source": [
    "Adicionando a razão de envio/recebimento de e-mails de uma pessoa com um POis e apagando campos desnecessários para continuidade das análises"
   ]
  },
  {
   "cell_type": "code",
   "execution_count": 33,
   "metadata": {
    "collapsed": true
   },
   "outputs": [],
   "source": [
    "for key, value in data_dict.items():\n",
    "    try:\n",
    "        \n",
    "        if value['to_messages'] == 0:\n",
    "            value['ratio_to'] = 0\n",
    "        \n",
    "        if value['from_messages'] == 0:\n",
    "            value['ratio_from'] = 0 \n",
    "        \n",
    "        if not 0 in [value['to_messages'],value['from_messages']]:\n",
    "            value['ratio_to'] = value['from_this_person_to_poi'] / float(value['to_messages'])\n",
    "            value['ratio_from'] = value['from_poi_to_this_person'] / float(value['from_messages'])\n",
    "            \n",
    "        value.pop('from_this_person_to_poi')\n",
    "        value.pop('to_messages')\n",
    "        value.pop('from_poi_to_this_person')\n",
    "        value.pop('from_messages')\n",
    "            \n",
    "        \n",
    "    except:\n",
    "        #se o campo não existe, não considero na base final\n",
    "        data_dict.pop(key)"
   ]
  },
  {
   "cell_type": "markdown",
   "metadata": {},
   "source": [
    "Com todas as alterações ocorridas o dataset ficou reduzido a 86 pessoas (ver abaixo), porém os dados estão mais consistentes que supor valores para dados que estejam faltando.\n",
    "\n",
    "É um dataset pequeno o que pode dificultar a qualidade do classificador"
   ]
  },
  {
   "cell_type": "code",
   "execution_count": 34,
   "metadata": {},
   "outputs": [
    {
     "data": {
      "text/plain": [
       "86"
      ]
     },
     "execution_count": 34,
     "metadata": {},
     "output_type": "execute_result"
    }
   ],
   "source": [
    "len(data_dict)"
   ]
  },
  {
   "cell_type": "code",
   "execution_count": 35,
   "metadata": {},
   "outputs": [
    {
     "data": {
      "text/plain": [
       "{'bonus': 850000,\n",
       " 'email_address': 'jeremy.blachman@enron.com',\n",
       " 'exercised_stock_options': 765313,\n",
       " 'expenses': 84208,\n",
       " 'from_count': 1,\n",
       " 'long_term_incentive': 831809,\n",
       " 'other': 272,\n",
       " 'poi': False,\n",
       " 'ratio_from': 1.7857142857142858,\n",
       " 'ratio_to': 0.0008080808080808081,\n",
       " 'restricted_stock': 189041,\n",
       " 'salary': 248546,\n",
       " 'shared_receipt_with_poi': 2326,\n",
       " 'to_count': 3,\n",
       " 'total_payments': 2014835,\n",
       " 'total_stock_value': 954354}"
      ]
     },
     "execution_count": 35,
     "metadata": {},
     "output_type": "execute_result"
    }
   ],
   "source": [
    "data_dict[data_dict.keys()[9]]"
   ]
  },
  {
   "cell_type": "markdown",
   "metadata": {},
   "source": [
    "# Feature Scalling\n",
    "Para evitar erros computacionais os valores devem ser bem condicionados, logo vou deixar os dados entre 0 e 1.\n",
    "\n",
    "Vou adicionar as novas features criadas ao data set\n",
    "\n",
    "Teremos 13 features para treinamento sendo que 4 foram criadas a partir do dataset inicial, onde 2 foram criadas com auxílio dos dados externos contidos em email_by_address.\n",
    "\n",
    "Com isso temos 4 características que destacam relação entre pessoas e as demais estão associadas a finanças. O escândalo da Enron envolveu seus principais executivos que são pessoas que possuem padrões diferenciados de bônus, salários, gastos e ganhos especiais com ações (stocks) o que justifica usar as características que estão em features_list"
   ]
  },
  {
   "cell_type": "code",
   "execution_count": 36,
   "metadata": {
    "collapsed": true
   },
   "outputs": [],
   "source": [
    "features_list = ['poi','salary','total_payments', 'bonus', 'total_stock_value', 'expenses', \n",
    "                 'exercised_stock_options', 'restricted_stock', 'shared_receipt_with_poi', \n",
    "                 'to_count', 'from_count','ratio_to','ratio_from'] "
   ]
  },
  {
   "cell_type": "code",
   "execution_count": 37,
   "metadata": {},
   "outputs": [
    {
     "data": {
      "text/plain": [
       "{'bonus': 600000,\n",
       " 'email_address': 'mark.metts@enron.com',\n",
       " 'expenses': 94299,\n",
       " 'from_count': 1,\n",
       " 'other': 1740,\n",
       " 'poi': False,\n",
       " 'ratio_from': 1.3103448275862069,\n",
       " 'ratio_to': 0.0012391573729863693,\n",
       " 'restricted_stock': 585062,\n",
       " 'salary': 365788,\n",
       " 'shared_receipt_with_poi': 702,\n",
       " 'to_count': 3,\n",
       " 'total_payments': 1061827,\n",
       " 'total_stock_value': 585062}"
      ]
     },
     "execution_count": 37,
     "metadata": {},
     "output_type": "execute_result"
    }
   ],
   "source": [
    "data_dict['METTS MARK']"
   ]
  },
  {
   "cell_type": "code",
   "execution_count": 38,
   "metadata": {},
   "outputs": [
    {
     "name": "stderr",
     "output_type": "stream",
     "text": [
      "C:\\Users\\Fernando\\Miniconda3\\envs\\py27\\lib\\site-packages\\sklearn\\utils\\validation.py:444: DataConversionWarning: Data with input dtype int32 was converted to float64 by MinMaxScaler.\n",
      "  warnings.warn(msg, DataConversionWarning)\n"
     ]
    }
   ],
   "source": [
    "data_dict, scale  = F_FeatureScalling(data_dict, ['email_address','poi'], features_list)"
   ]
  },
  {
   "cell_type": "code",
   "execution_count": 39,
   "metadata": {},
   "outputs": [
    {
     "data": {
      "text/plain": [
       "{'bonus': 0.066834804539722584,\n",
       " 'email_address': 'mark.metts@enron.com',\n",
       " 'expenses': 0.41098962713765069,\n",
       " 'from_count': 0.33333333333333331,\n",
       " 'other': 1740,\n",
       " 'poi': False,\n",
       " 'ratio_from': 0.11370760900541464,\n",
       " 'ratio_to': 0.006293454441127817,\n",
       " 'restricted_stock': 0.1836645287185717,\n",
       " 'salary': 0.32887760953779366,\n",
       " 'shared_receipt_with_poi': 0.12683457148034064,\n",
       " 'to_count': 1.0,\n",
       " 'total_payments': 0.010248734932765778,\n",
       " 'total_stock_value': 0.011333526753988486}"
      ]
     },
     "execution_count": 39,
     "metadata": {},
     "output_type": "execute_result"
    }
   ],
   "source": [
    "data_dict['METTS MARK']"
   ]
  },
  {
   "cell_type": "markdown",
   "metadata": {},
   "source": [
    "Adicionar ao dataset final as correções e features executadas no dataset inicial"
   ]
  },
  {
   "cell_type": "code",
   "execution_count": 40,
   "metadata": {
    "collapsed": true
   },
   "outputs": [],
   "source": [
    "### Task 3: Create new feature(s)\n",
    "### Store to my_dataset for easy export below.\n",
    "my_dataset = data_dict"
   ]
  },
  {
   "cell_type": "markdown",
   "metadata": {},
   "source": [
    "# Corrigindo a base"
   ]
  },
  {
   "cell_type": "markdown",
   "metadata": {},
   "source": [
    "Inicialmente havia apagado todos os valores com NaN para não gerar algum erro nas análises iniciais. \n",
    "\n",
    "As features em features_list serão utilizadas para criar o trainning e label sets, logo preciso que todos os elementos em my_dataset contenham essas features e por isso vou retornar ou criar as features apagadas com valor 0.\n",
    "\n",
    "Ao adicionar valor 0 para features que eram Nan ou não existiam, estou perdendo consistência no dataset ao supor valores, mas esse passo será necessário para não reduzir ainda mais o dataset o que prejudicaria a performance do classificador e traria risco de overfitting"
   ]
  },
  {
   "cell_type": "code",
   "execution_count": 41,
   "metadata": {
    "scrolled": false
   },
   "outputs": [
    {
     "name": "stdout",
     "output_type": "stream",
     "text": [
      "Quantidade de pessoas com falta de informações,  45\n"
     ]
    },
    {
     "data": {
      "text/plain": [
       "defaultdict(list,\n",
       "            {'BANNANTINE JAMES M': ['bonus'],\n",
       "             'BECK SALLY W': ['exercised_stock_options'],\n",
       "             'BERGSIEKER RICHARD P': ['exercised_stock_options'],\n",
       "             'BHATNAGAR SANJAY': ['salary',\n",
       "              'bonus',\n",
       "              'total_stock_value',\n",
       "              'expenses'],\n",
       "             'BOWEN JR RAYMOND M': ['exercised_stock_options'],\n",
       "             'BROWN MICHAEL': ['salary',\n",
       "              'bonus',\n",
       "              'total_stock_value',\n",
       "              'exercised_stock_options',\n",
       "              'restricted_stock'],\n",
       "             'BUY RICHARD B': ['expenses'],\n",
       "             'CALGER CHRISTOPHER F': ['exercised_stock_options'],\n",
       "             'CARTER REBECCA C': ['total_stock_value',\n",
       "              'expenses',\n",
       "              'exercised_stock_options'],\n",
       "             'CAUSEY RICHARD A': ['exercised_stock_options'],\n",
       "             'COLWELL WESLEY': ['exercised_stock_options'],\n",
       "             'CORDES WILLIAM R': ['salary',\n",
       "              'total_payments',\n",
       "              'bonus',\n",
       "              'expenses'],\n",
       "             'DODSON KEITH': ['total_stock_value',\n",
       "              'exercised_stock_options',\n",
       "              'restricted_stock'],\n",
       "             'FOWLER PEGGY': ['salary', 'total_payments', 'bonus', 'expenses'],\n",
       "             'FOY JOE': ['salary', 'bonus', 'expenses', 'restricted_stock'],\n",
       "             'GIBBS DANA R': ['salary',\n",
       "              'bonus',\n",
       "              'expenses',\n",
       "              'restricted_stock'],\n",
       "             'HAUG DAVID L': ['salary', 'bonus', 'exercised_stock_options'],\n",
       "             'HAYES ROBERT E': ['salary',\n",
       "              'bonus',\n",
       "              'expenses',\n",
       "              'exercised_stock_options'],\n",
       "             'HAYSLETT RODERICK J': ['salary',\n",
       "              'total_payments',\n",
       "              'bonus',\n",
       "              'expenses',\n",
       "              'exercised_stock_options'],\n",
       "             'HICKERSON GARY J': ['exercised_stock_options'],\n",
       "             'HORTON STANLEY C': ['salary', 'bonus', 'expenses'],\n",
       "             'HUGHES JAMES A': ['salary',\n",
       "              'total_payments',\n",
       "              'bonus',\n",
       "              'expenses'],\n",
       "             'HUMPHREY GENE E': ['bonus', 'restricted_stock'],\n",
       "             'IZZO LAWRENCE L': ['bonus'],\n",
       "             'LEFF DANIEL P': ['expenses', 'exercised_stock_options'],\n",
       "             'LEWIS RICHARD': ['salary',\n",
       "              'total_payments',\n",
       "              'bonus',\n",
       "              'expenses',\n",
       "              'restricted_stock'],\n",
       "             'MARTIN AMANDA K': ['bonus', 'restricted_stock'],\n",
       "             'MCCARTY DANNY J': ['salary',\n",
       "              'total_payments',\n",
       "              'bonus',\n",
       "              'expenses'],\n",
       "             'MCDONALD REBECCA': ['salary',\n",
       "              'total_payments',\n",
       "              'bonus',\n",
       "              'expenses'],\n",
       "             'METTS MARK': ['exercised_stock_options'],\n",
       "             'MEYER ROCKFORD G': ['salary', 'bonus', 'expenses'],\n",
       "             'MORAN MICHAEL P': ['salary',\n",
       "              'total_payments',\n",
       "              'bonus',\n",
       "              'expenses'],\n",
       "             'MULLER MARK S': ['expenses'],\n",
       "             'PICKERING MARK R': ['restricted_stock'],\n",
       "             'PIRO JIM': ['salary',\n",
       "              'total_payments',\n",
       "              'bonus',\n",
       "              'expenses',\n",
       "              'exercised_stock_options'],\n",
       "             'POWERS WILLIAM': ['salary',\n",
       "              'total_payments',\n",
       "              'bonus',\n",
       "              'total_stock_value',\n",
       "              'expenses',\n",
       "              'exercised_stock_options',\n",
       "              'restricted_stock'],\n",
       "             'REDMOND BRIAN L': ['bonus'],\n",
       "             'SHERRICK JEFFREY B': ['salary',\n",
       "              'total_payments',\n",
       "              'bonus',\n",
       "              'expenses'],\n",
       "             'SHERRIFF JOHN R': ['expenses'],\n",
       "             'SUNDE MARTIN': ['expenses', 'exercised_stock_options'],\n",
       "             'TAYLOR MITCHELL S': ['expenses'],\n",
       "             'THORN TERENCE H': ['bonus'],\n",
       "             'TILNEY ELIZABETH A': ['expenses'],\n",
       "             'UMANOFF ADAM S': ['total_stock_value',\n",
       "              'exercised_stock_options',\n",
       "              'restricted_stock'],\n",
       "             'WASAFF GEORGE': ['expenses']})"
      ]
     },
     "execution_count": 41,
     "metadata": {},
     "output_type": "execute_result"
    }
   ],
   "source": [
    "not_person_feature = F_VerificarExisteFeature()\n",
    "not_person_feature"
   ]
  },
  {
   "cell_type": "code",
   "execution_count": 42,
   "metadata": {
    "collapsed": true
   },
   "outputs": [],
   "source": [
    "for key, values in not_person_feature.items():\n",
    "    for value in values:\n",
    "        my_dataset[key][value] = 0"
   ]
  },
  {
   "cell_type": "markdown",
   "metadata": {},
   "source": [
    "Verificando novamente se existe algum campo com problema"
   ]
  },
  {
   "cell_type": "code",
   "execution_count": 43,
   "metadata": {
    "scrolled": false
   },
   "outputs": [
    {
     "name": "stdout",
     "output_type": "stream",
     "text": [
      "Quantidade de pessoas com falta de informações,  0\n"
     ]
    },
    {
     "data": {
      "text/plain": [
       "defaultdict(list, {})"
      ]
     },
     "execution_count": 43,
     "metadata": {},
     "output_type": "execute_result"
    }
   ],
   "source": [
    "F_VerificarExisteFeature()"
   ]
  },
  {
   "cell_type": "markdown",
   "metadata": {},
   "source": [
    "# Extrair features e labels"
   ]
  },
  {
   "cell_type": "code",
   "execution_count": 44,
   "metadata": {
    "collapsed": true
   },
   "outputs": [],
   "source": [
    "### Extract features and labels from dataset for local testing\n",
    "data = featureFormat(my_dataset, features_list, sort_keys = True)\n",
    "labels, features = targetFeatureSplit(data)"
   ]
  },
  {
   "cell_type": "markdown",
   "metadata": {},
   "source": [
    "# Task 4: Try a varity of classifiers"
   ]
  },
  {
   "cell_type": "markdown",
   "metadata": {},
   "source": [
    "Foram testados vários classificadores com vários parâmetros diferentes\n",
    "\n",
    "As features criadas foram avaliadas durante os testes."
   ]
  },
  {
   "cell_type": "code",
   "execution_count": 45,
   "metadata": {
    "collapsed": true
   },
   "outputs": [],
   "source": [
    "### Task 4: Try a varity of classifiers\n",
    "### Please name your classifier clf for easy export below.\n",
    "### Note that if you want to do PCA or other multi-stage operations,\n",
    "### you'll need to use Pipelines. For more info:\n",
    "### http://scikit-learn.org/stable/modules/pipeline.html\n",
    "\n",
    "# Provided to give you a starting point. Try a variety of classifiers.\n",
    "from sklearn.naive_bayes import GaussianNB\n",
    "from sklearn.ensemble import RandomForestClassifier\n",
    "from sklearn.svm import SVC\n",
    "from sklearn.tree import DecisionTreeClassifier\n",
    "from sklearn.ensemble import GradientBoostingClassifier"
   ]
  },
  {
   "cell_type": "code",
   "execution_count": 46,
   "metadata": {
    "collapsed": true
   },
   "outputs": [],
   "source": [
    "### Task 5: Tune your classifier to achieve better than .3 precision and recall \n",
    "### using our testing script. Check the tester.py script in the final project\n",
    "### folder for details on the evaluation method, especially the test_classifier\n",
    "### function. Because of the small size of the dataset, the script uses\n",
    "### stratified shuffle split cross validation. For more info: \n",
    "### http://scikit-learn.org/stable/modules/generated/sklearn.cross_validation.StratifiedShuffleSplit.html\n",
    "\n",
    "# Example starting point. Try investigating other evaluation techniques!\n",
    "from sklearn.cross_validation import train_test_split\n",
    "features_train, features_test, labels_train, labels_test = \\\n",
    "    train_test_split(features, labels, test_size=0.3, random_state=42)"
   ]
  },
  {
   "cell_type": "markdown",
   "metadata": {},
   "source": [
    "### Importando função para teste"
   ]
  },
  {
   "cell_type": "code",
   "execution_count": 48,
   "metadata": {
    "collapsed": true
   },
   "outputs": [],
   "source": [
    "from tester import test_classifier\n",
    "from sklearn.model_selection import GridSearchCV"
   ]
  },
  {
   "cell_type": "markdown",
   "metadata": {},
   "source": [
    "Vou utilizar vários classificadores e para melhorar o desempenho preciso ajustar o parâmetros de cada classificador. Para que isso ocorra vou usar GridSeachCV para fazer um teste exaustivo sobre várias configurações possíveis de parâmetros.\n",
    "\n",
    "Essa busca vai fazer o algoritmo se ajustar melhor aos dados e consequentemente melhorar o desempenho do classificador no processo de validação."
   ]
  },
  {
   "cell_type": "markdown",
   "metadata": {},
   "source": [
    "#### Validação \n",
    "\n",
    "Para estimar a performance do nosso classificador após o treinamento realizamos a validação. Para isso dividimos nossos dados em treinamento e teste.\n",
    "\n",
    "Os dados de teste são para estimar a performance do algoritmo em um data set independente e analisar se existe overfitting, ou seja, se nosso classificador está enviesado do treinamento e não pode ser generalizado para outros data sets.\n",
    "\n",
    "Essa validação com data set de treinamento e testes é chamada cross-validation."
   ]
  },
  {
   "cell_type": "markdown",
   "metadata": {},
   "source": [
    "#### Tipo de validação"
   ]
  },
  {
   "cell_type": "markdown",
   "metadata": {},
   "source": [
    "Neste trabalho foi utilizado o StratifiedShuffleSplit para cross-validation.\n",
    "\n",
    "Devido a nosso data set ser pequeno, vamos usar a técnica de k-folds para ampliar a base de treinamento. A técnica consiste em dividir nosso data set em n folds com quantidade semelhante de dados, onde cada fold contém dados para treino e teste.\n",
    "\n",
    "Para evitar overfitting temos de evitar que os folds estejam enviesados. Para isso os dados devem ser embaralha de forma pseudo-aleatória para garantir sua homegeneidade.\n",
    "\n",
    "Todos esses passos de criar k-folds com dados embaralhados e dividir em dados de treino e teste são feitos por StratifiedShuffleSplit."
   ]
  },
  {
   "cell_type": "markdown",
   "metadata": {
    "collapsed": true
   },
   "source": [
    "### Naive Bayes"
   ]
  },
  {
   "cell_type": "markdown",
   "metadata": {},
   "source": [
    "Usando Naive Bayes para teste simples"
   ]
  },
  {
   "cell_type": "code",
   "execution_count": 44,
   "metadata": {
    "scrolled": false
   },
   "outputs": [
    {
     "name": "stdout",
     "output_type": "stream",
     "text": [
      "\n",
      "salary\n",
      "GaussianNB(priors=None)\n",
      "\tAccuracy: 0.84157\tPrecision: 0.35620\tRecall: 0.13500\tF1: 0.19579\tF2: 0.15414\n",
      "\tTotal predictions: 7000\tTrue positives:  135\tFalse positives:  244\tFalse negatives:  865\tTrue negatives: 5756\n",
      "\n",
      "\n",
      "total_payments\n",
      "GaussianNB(priors=None)\n",
      "\tAccuracy: 0.72562\tPrecision: 0.01493\tRecall: 0.00150\tF1: 0.00273\tF2: 0.00183\n",
      "\tTotal predictions: 8000\tTrue positives:    3\tFalse positives:  198\tFalse negatives: 1997\tTrue negatives: 5802\n",
      "\n",
      "\n",
      "bonus\n",
      "GaussianNB(priors=None)\n",
      "\tAccuracy: 0.83033\tPrecision: 0.47907\tRecall: 0.20600\tF1: 0.28811\tF2: 0.23251\n",
      "\tTotal predictions: 6000\tTrue positives:  206\tFalse positives:  224\tFalse negatives:  794\tTrue negatives: 4776\n",
      "\n",
      "\n",
      "total_stock_value\n",
      "GaussianNB(priors=None)\n",
      "\tAccuracy: 0.87162\tPrecision: 0.46778\tRecall: 0.19600\tF1: 0.27625\tF2: 0.22177\n",
      "\tTotal predictions: 8000\tTrue positives:  196\tFalse positives:  223\tFalse negatives:  804\tTrue negatives: 6777\n",
      "\n",
      "\n",
      "expenses\n",
      "Got a divide by zero when trying out: GaussianNB(priors=None)\n",
      "Precision or recall may be undefined due to a lack of true positive predicitons.\n",
      "\n",
      "exercised_stock_options\n",
      "GaussianNB(priors=None)\n",
      "\tAccuracy: 0.85429\tPrecision: 0.48377\tRecall: 0.29800\tF1: 0.36881\tF2: 0.32279\n",
      "\tTotal predictions: 7000\tTrue positives:  298\tFalse positives:  318\tFalse negatives:  702\tTrue negatives: 5682\n",
      "\n",
      "\n",
      "restricted_stock\n",
      "GaussianNB(priors=None)\n",
      "\tAccuracy: 0.84900\tPrecision: 0.30153\tRecall: 0.15800\tF1: 0.20735\tF2: 0.17462\n",
      "\tTotal predictions: 8000\tTrue positives:  158\tFalse positives:  366\tFalse negatives:  842\tTrue negatives: 6634\n",
      "\n",
      "\n",
      "shared_receipt_with_poi\n",
      "Got a divide by zero when trying out: GaussianNB(priors=None)\n",
      "Precision or recall may be undefined due to a lack of true positive predicitons.\n",
      "\n",
      "to_count\n",
      "Got a divide by zero when trying out: GaussianNB(priors=None)\n",
      "Precision or recall may be undefined due to a lack of true positive predicitons.\n",
      "\n",
      "from_count\n",
      "Got a divide by zero when trying out: GaussianNB(priors=None)\n",
      "Precision or recall may be undefined due to a lack of true positive predicitons.\n",
      "\n",
      "ratio_to\n",
      "Got a divide by zero when trying out: GaussianNB(priors=None)\n",
      "Precision or recall may be undefined due to a lack of true positive predicitons.\n",
      "\n",
      "ratio_from\n",
      "GaussianNB(priors=None)\n",
      "\tAccuracy: 0.73762\tPrecision: 0.02857\tRecall: 0.00150\tF1: 0.00285\tF2: 0.00185\n",
      "\tTotal predictions: 8000\tTrue positives:    3\tFalse positives:  102\tFalse negatives: 1997\tTrue negatives: 5898\n",
      "\n"
     ]
    }
   ],
   "source": [
    "clf = GaussianNB()\n",
    "for ii in features_list:\n",
    "    if ii != 'poi':\n",
    "        print '\\n',ii\n",
    "        test_classifier(clf, my_dataset, ['poi',ii])"
   ]
  },
  {
   "cell_type": "markdown",
   "metadata": {},
   "source": [
    "Para classificador Naiva Bayes temos que o melhor resultdo encontrado foi usar somente uma feature (exercised_stock_options)"
   ]
  },
  {
   "cell_type": "code",
   "execution_count": 45,
   "metadata": {},
   "outputs": [
    {
     "name": "stdout",
     "output_type": "stream",
     "text": [
      "GaussianNB(priors=None)\n",
      "\tAccuracy: 0.85429\tPrecision: 0.48377\tRecall: 0.29800\tF1: 0.36881\tF2: 0.32279\n",
      "\tTotal predictions: 7000\tTrue positives:  298\tFalse positives:  318\tFalse negatives:  702\tTrue negatives: 5682\n",
      "\n"
     ]
    }
   ],
   "source": [
    "features_completa = features_list[:]\n",
    "features_completa.remove('ratio_from')\n",
    "features_completa.remove('total_payments')\n",
    "\n",
    "clf = GaussianNB()\n",
    "test_classifier(clf, my_dataset, ['poi','exercised_stock_options'])"
   ]
  },
  {
   "cell_type": "markdown",
   "metadata": {},
   "source": [
    "## Decision Tree"
   ]
  },
  {
   "cell_type": "code",
   "execution_count": 46,
   "metadata": {
    "scrolled": false
   },
   "outputs": [
    {
     "name": "stdout",
     "output_type": "stream",
     "text": [
      "\n",
      "salary\n",
      "DecisionTreeClassifier(class_weight=None, criterion='gini', max_depth=None,\n",
      "            max_features=None, max_leaf_nodes=None,\n",
      "            min_impurity_decrease=0.0, min_impurity_split=None,\n",
      "            min_samples_leaf=1, min_samples_split=2,\n",
      "            min_weight_fraction_leaf=0.0, presort=False, random_state=None,\n",
      "            splitter='best')\n",
      "\tAccuracy: 0.69929\tPrecision: 0.19858\tRecall: 0.36400\tF1: 0.25697\tF2: 0.31202\n",
      "\tTotal predictions: 7000\tTrue positives:  364\tFalse positives: 1469\tFalse negatives:  636\tTrue negatives: 4531\n",
      "\n",
      "\n",
      "total_payments\n",
      "DecisionTreeClassifier(class_weight=None, criterion='gini', max_depth=None,\n",
      "            max_features=None, max_leaf_nodes=None,\n",
      "            min_impurity_decrease=0.0, min_impurity_split=None,\n",
      "            min_samples_leaf=1, min_samples_split=2,\n",
      "            min_weight_fraction_leaf=0.0, presort=False, random_state=None,\n",
      "            splitter='best')\n",
      "\tAccuracy: 0.65650\tPrecision: 0.19692\tRecall: 0.12150\tF1: 0.15028\tF2: 0.13158\n",
      "\tTotal predictions: 8000\tTrue positives:  243\tFalse positives:  991\tFalse negatives: 1757\tTrue negatives: 5009\n",
      "\n",
      "\n",
      "bonus\n",
      "DecisionTreeClassifier(class_weight=None, criterion='gini', max_depth=None,\n",
      "            max_features=None, max_leaf_nodes=None,\n",
      "            min_impurity_decrease=0.0, min_impurity_split=None,\n",
      "            min_samples_leaf=1, min_samples_split=2,\n",
      "            min_weight_fraction_leaf=0.0, presort=False, random_state=None,\n",
      "            splitter='best')\n",
      "\tAccuracy: 0.76317\tPrecision: 0.29622\tRecall: 0.30600\tF1: 0.30103\tF2: 0.30399\n",
      "\tTotal predictions: 6000\tTrue positives:  306\tFalse positives:  727\tFalse negatives:  694\tTrue negatives: 4273\n",
      "\n",
      "\n",
      "total_stock_value\n",
      "DecisionTreeClassifier(class_weight=None, criterion='gini', max_depth=None,\n",
      "            max_features=None, max_leaf_nodes=None,\n",
      "            min_impurity_decrease=0.0, min_impurity_split=None,\n",
      "            min_samples_leaf=1, min_samples_split=2,\n",
      "            min_weight_fraction_leaf=0.0, presort=False, random_state=None,\n",
      "            splitter='best')\n",
      "\tAccuracy: 0.78838\tPrecision: 0.29558\tRecall: 0.50100\tF1: 0.37180\tF2: 0.43986\n",
      "\tTotal predictions: 8000\tTrue positives:  501\tFalse positives: 1194\tFalse negatives:  499\tTrue negatives: 5806\n",
      "\n",
      "\n",
      "expenses\n",
      "DecisionTreeClassifier(class_weight=None, criterion='gini', max_depth=None,\n",
      "            max_features=None, max_leaf_nodes=None,\n",
      "            min_impurity_decrease=0.0, min_impurity_split=None,\n",
      "            min_samples_leaf=1, min_samples_split=2,\n",
      "            min_weight_fraction_leaf=0.0, presort=False, random_state=None,\n",
      "            splitter='best')\n",
      "\tAccuracy: 0.75683\tPrecision: 0.33236\tRecall: 0.45500\tF1: 0.38413\tF2: 0.42373\n",
      "\tTotal predictions: 6000\tTrue positives:  455\tFalse positives:  914\tFalse negatives:  545\tTrue negatives: 4086\n",
      "\n",
      "\n",
      "exercised_stock_options\n",
      "DecisionTreeClassifier(class_weight=None, criterion='gini', max_depth=None,\n",
      "            max_features=None, max_leaf_nodes=None,\n",
      "            min_impurity_decrease=0.0, min_impurity_split=None,\n",
      "            min_samples_leaf=1, min_samples_split=2,\n",
      "            min_weight_fraction_leaf=0.0, presort=False, random_state=None,\n",
      "            splitter='best')\n",
      "\tAccuracy: 0.78914\tPrecision: 0.28712\tRecall: 0.32100\tF1: 0.30312\tF2: 0.31360\n",
      "\tTotal predictions: 7000\tTrue positives:  321\tFalse positives:  797\tFalse negatives:  679\tTrue negatives: 5203\n",
      "\n",
      "\n",
      "restricted_stock\n",
      "DecisionTreeClassifier(class_weight=None, criterion='gini', max_depth=None,\n",
      "            max_features=None, max_leaf_nodes=None,\n",
      "            min_impurity_decrease=0.0, min_impurity_split=None,\n",
      "            min_samples_leaf=1, min_samples_split=2,\n",
      "            min_weight_fraction_leaf=0.0, presort=False, random_state=None,\n",
      "            splitter='best')\n",
      "\tAccuracy: 0.80950\tPrecision: 0.27217\tRecall: 0.31300\tF1: 0.29116\tF2: 0.30388\n",
      "\tTotal predictions: 8000\tTrue positives:  313\tFalse positives:  837\tFalse negatives:  687\tTrue negatives: 6163\n",
      "\n",
      "\n",
      "shared_receipt_with_poi\n",
      "DecisionTreeClassifier(class_weight=None, criterion='gini', max_depth=None,\n",
      "            max_features=None, max_leaf_nodes=None,\n",
      "            min_impurity_decrease=0.0, min_impurity_split=None,\n",
      "            min_samples_leaf=1, min_samples_split=2,\n",
      "            min_weight_fraction_leaf=0.0, presort=False, random_state=None,\n",
      "            splitter='best')\n",
      "\tAccuracy: 0.84600\tPrecision: 0.31115\tRecall: 0.31800\tF1: 0.31454\tF2: 0.31661\n",
      "\tTotal predictions: 9000\tTrue positives:  318\tFalse positives:  704\tFalse negatives:  682\tTrue negatives: 7296\n",
      "\n",
      "\n",
      "to_count\n",
      "Got a divide by zero when trying out: DecisionTreeClassifier(class_weight=None, criterion='gini', max_depth=None,\n",
      "            max_features=None, max_leaf_nodes=None,\n",
      "            min_impurity_decrease=0.0, min_impurity_split=None,\n",
      "            min_samples_leaf=1, min_samples_split=2,\n",
      "            min_weight_fraction_leaf=0.0, presort=False, random_state=None,\n",
      "            splitter='best')\n",
      "Precision or recall may be undefined due to a lack of true positive predicitons.\n",
      "\n",
      "from_count\n",
      "Got a divide by zero when trying out: DecisionTreeClassifier(class_weight=None, criterion='gini', max_depth=None,\n",
      "            max_features=None, max_leaf_nodes=None,\n",
      "            min_impurity_decrease=0.0, min_impurity_split=None,\n",
      "            min_samples_leaf=1, min_samples_split=2,\n",
      "            min_weight_fraction_leaf=0.0, presort=False, random_state=None,\n",
      "            splitter='best')\n",
      "Precision or recall may be undefined due to a lack of true positive predicitons.\n",
      "\n",
      "ratio_to\n",
      "DecisionTreeClassifier(class_weight=None, criterion='gini', max_depth=None,\n",
      "            max_features=None, max_leaf_nodes=None,\n",
      "            min_impurity_decrease=0.0, min_impurity_split=None,\n",
      "            min_samples_leaf=1, min_samples_split=2,\n",
      "            min_weight_fraction_leaf=0.0, presort=False, random_state=None,\n",
      "            splitter='best')\n",
      "\tAccuracy: 0.71300\tPrecision: 0.21416\tRecall: 0.37800\tF1: 0.27342\tF2: 0.32784\n",
      "\tTotal predictions: 7000\tTrue positives:  378\tFalse positives: 1387\tFalse negatives:  622\tTrue negatives: 4613\n",
      "\n",
      "\n",
      "ratio_from\n",
      "DecisionTreeClassifier(class_weight=None, criterion='gini', max_depth=None,\n",
      "            max_features=None, max_leaf_nodes=None,\n",
      "            min_impurity_decrease=0.0, min_impurity_split=None,\n",
      "            min_samples_leaf=1, min_samples_split=2,\n",
      "            min_weight_fraction_leaf=0.0, presort=False, random_state=None,\n",
      "            splitter='best')\n",
      "\tAccuracy: 0.70837\tPrecision: 0.36691\tRecall: 0.22950\tF1: 0.28237\tF2: 0.24808\n",
      "\tTotal predictions: 8000\tTrue positives:  459\tFalse positives:  792\tFalse negatives: 1541\tTrue negatives: 5208\n",
      "\n"
     ]
    }
   ],
   "source": [
    "clf = DecisionTreeClassifier()\n",
    "for ii in features_list:\n",
    "    if ii != 'poi':\n",
    "        print '\\n', ii\n",
    "        test_classifier(clf, my_dataset, ['poi',ii])"
   ]
  },
  {
   "cell_type": "markdown",
   "metadata": {},
   "source": [
    "A partir da performance das features individualmente (resultados acima), foram testadas várias combinações manualmente.\n",
    "\n",
    "O melhor resultado em acurácia, precision e recall para o classificador com configurações padrão está abaixo."
   ]
  },
  {
   "cell_type": "code",
   "execution_count": 282,
   "metadata": {},
   "outputs": [
    {
     "name": "stdout",
     "output_type": "stream",
     "text": [
      "DecisionTreeClassifier(class_weight=None, criterion='gini', max_depth=None,\n",
      "            max_features=None, max_leaf_nodes=None,\n",
      "            min_impurity_decrease=0.0, min_impurity_split=None,\n",
      "            min_samples_leaf=1, min_samples_split=2,\n",
      "            min_weight_fraction_leaf=0.0, presort=False, random_state=None,\n",
      "            splitter='best')\n",
      "\tAccuracy: 0.87233\tPrecision: 0.44101\tRecall: 0.55700\tF1: 0.49227\tF2: 0.52917\n",
      "\tTotal predictions: 9000\tTrue positives:  557\tFalse positives:  706\tFalse negatives:  443\tTrue negatives: 7294\n",
      "\n"
     ]
    }
   ],
   "source": [
    "clf = DecisionTreeClassifier()\n",
    "test_classifier(clf, my_dataset, ['poi','total_stock_value','ratio_to','expenses'])"
   ]
  },
  {
   "cell_type": "markdown",
   "metadata": {},
   "source": [
    "#### Testando impacto da feature criada\n",
    "A feature criada (ratio_to) melhora o recall, mas afeta precision. Existe um trade-off recall-precision com a feature ratio_to.\n",
    "Isso pode estar relacionado com o vazamento de dados devido a ratio_to conter informações sobre se a pessoa é POI ou non-POI que é a variável que queremos prever.\n",
    "\n",
    "Para evitar vazamento de dados não vou utilizar a variável criada o que trará melhor precision, enquanto uso GridSearchCV com recall como scoring visando incrementar essa métrica."
   ]
  },
  {
   "cell_type": "code",
   "execution_count": 310,
   "metadata": {},
   "outputs": [
    {
     "name": "stdout",
     "output_type": "stream",
     "text": [
      "DecisionTreeClassifier(class_weight=None, criterion='gini', max_depth=None,\n",
      "            max_features=None, max_leaf_nodes=None,\n",
      "            min_impurity_decrease=0.0, min_impurity_split=None,\n",
      "            min_samples_leaf=1, min_samples_split=2,\n",
      "            min_weight_fraction_leaf=0.0, presort=False, random_state=None,\n",
      "            splitter='best')\n",
      "\tAccuracy: 0.79422\tPrecision: 0.54277\tRecall: 0.46950\tF1: 0.50349\tF2: 0.48253\n",
      "\tTotal predictions: 9000\tTrue positives:  939\tFalse positives:  791\tFalse negatives: 1061\tTrue negatives: 6209\n",
      "\n"
     ]
    }
   ],
   "source": [
    "clf = DecisionTreeClassifier()\n",
    "test_classifier(clf, my_dataset, ['poi','total_stock_value','expenses'])"
   ]
  },
  {
   "cell_type": "markdown",
   "metadata": {},
   "source": [
    "Posso melhorar o desempenho do classificador mudando os seus parâmetros com uma busca exaustiva.\n",
    "\n",
    "Os parâmetros para avaliar o classificador são acurácia, precisão e abrangência. Em nossa base a grande maioria das pessoas não são POis e é possível perceber que o classificador fica enviesado para retornar falso e assim ter uma alta acurácia. Precisamos priorizar a precisão e recall do classificador para saber com confiança se ele pode identificar um POis entra a maioria que não esteve envolvida no escandâlo da Enron.\n",
    "\n",
    "Ter alta precision nos garante que o classificador tem baixo erro quando afirma que uma pessoa é um POI, enquanto um alto recall nos garante que o classificador pode encontrar uma grande quantidade de POis.\n",
    "\n",
    "Como no passo anterior privilegiei precision na escolha das features vou ajustar os parâmetros com GridShearchCV usando como scoring recall."
   ]
  },
  {
   "cell_type": "markdown",
   "metadata": {},
   "source": [
    "#### Seleção de parâmetros\n",
    "\n",
    "Para otimizar o algoritmo que estamos utilizando, neste caso é uma Decision Trees podemos testar novos parâmetros. O ajuste de parâmetros calibra o algoritmo obter melhores resultados com os dados de treinamento e teste.\n",
    "\n",
    "Isso nos permite tornar o algoritmo mais especializado para trabalhar com nossos dados o que poderá aumentar acurácia, precision e recal, reduzir overfitting e melhorar performance."
   ]
  },
  {
   "cell_type": "code",
   "execution_count": 49,
   "metadata": {},
   "outputs": [
    {
     "name": "stdout",
     "output_type": "stream",
     "text": [
      "GridSearchCV(cv=None, error_score='raise',\n",
      "       estimator=DecisionTreeClassifier(class_weight=None, criterion='gini', max_depth=None,\n",
      "            max_features=None, max_leaf_nodes=None,\n",
      "            min_impurity_decrease=0.0, min_impurity_split=None,\n",
      "            min_samples_leaf=1, min_samples_split=2,\n",
      "            min_weight_fraction_leaf=0.0, presort=False, random_state=None,\n",
      "            splitter='best'),\n",
      "       fit_params=None, iid=True, n_jobs=1,\n",
      "       param_grid={'min_samples_split': [2, 3, 4], 'max_depth': [2, 3, 4, 5, 6, 7, None]},\n",
      "       pre_dispatch='2*n_jobs', refit=True, return_train_score=True,\n",
      "       scoring='recall', verbose=0)\n",
      "\tAccuracy: 0.80722\tPrecision: 0.60184\tRecall: 0.39150\tF1: 0.47440\tF2: 0.42092\n",
      "\tTotal predictions: 9000\tTrue positives:  783\tFalse positives:  518\tFalse negatives: 1217\tTrue negatives: 6482\n",
      "\n"
     ]
    }
   ],
   "source": [
    "clf = GridSearchCV(DecisionTreeClassifier(),{'min_samples_split':[2,3,4], 'max_depth':[2,3,4,5,6,7,None]},scoring='recall' )\n",
    "test_classifier(clf, my_dataset, ['poi','total_stock_value','expenses'])"
   ]
  },
  {
   "cell_type": "markdown",
   "metadata": {},
   "source": [
    "Melhor parâmetro encontrado para Decision Trees foi"
   ]
  },
  {
   "cell_type": "code",
   "execution_count": 51,
   "metadata": {},
   "outputs": [
    {
     "data": {
      "text/plain": [
       "{'max_depth': 5, 'min_samples_split': 2}"
      ]
     },
     "execution_count": 51,
     "metadata": {},
     "output_type": "execute_result"
    }
   ],
   "source": [
    "clf.best_params_"
   ]
  },
  {
   "cell_type": "markdown",
   "metadata": {},
   "source": [
    "Usando os melhores parâmetros temos uma precisão de aproximadamente 62% e recall de 42%."
   ]
  },
  {
   "cell_type": "code",
   "execution_count": 52,
   "metadata": {},
   "outputs": [
    {
     "name": "stdout",
     "output_type": "stream",
     "text": [
      "DecisionTreeClassifier(class_weight=None, criterion='gini', max_depth=5,\n",
      "            max_features=None, max_leaf_nodes=None,\n",
      "            min_impurity_decrease=0.0, min_impurity_split=None,\n",
      "            min_samples_leaf=1, min_samples_split=2,\n",
      "            min_weight_fraction_leaf=0.0, presort=False, random_state=None,\n",
      "            splitter='best')\n",
      "\tAccuracy: 0.81678\tPrecision: 0.63087\tRecall: 0.42300\tF1: 0.50644\tF2: 0.45284\n",
      "\tTotal predictions: 9000\tTrue positives:  846\tFalse positives:  495\tFalse negatives: 1154\tTrue negatives: 6505\n",
      "\n"
     ]
    }
   ],
   "source": [
    "clf = DecisionTreeClassifier(max_depth=5, min_samples_split=2)\n",
    "test_classifier(clf, my_dataset, ['poi','expenses','total_stock_value'])"
   ]
  },
  {
   "cell_type": "markdown",
   "metadata": {},
   "source": [
    "## Random Forest"
   ]
  },
  {
   "cell_type": "markdown",
   "metadata": {},
   "source": [
    "Agora tentando melhorar a previsão vou usar Random Forest Classifier, pois possui uma tendência menor que Decision Trees em sofrer overfitting, embora a quantidade de características seja pequena."
   ]
  },
  {
   "cell_type": "code",
   "execution_count": 233,
   "metadata": {
    "scrolled": false
   },
   "outputs": [
    {
     "name": "stdout",
     "output_type": "stream",
     "text": [
      "\n",
      "salary\n",
      "RandomForestClassifier(bootstrap=True, class_weight=None, criterion='gini',\n",
      "            max_depth=None, max_features='auto', max_leaf_nodes=None,\n",
      "            min_impurity_decrease=0.0, min_impurity_split=None,\n",
      "            min_samples_leaf=1, min_samples_split=2,\n",
      "            min_weight_fraction_leaf=0.0, n_estimators=10, n_jobs=1,\n",
      "            oob_score=False, random_state=None, verbose=0,\n",
      "            warm_start=False)\n",
      "\tAccuracy: 0.71829\tPrecision: 0.18068\tRecall: 0.27500\tF1: 0.21808\tF2: 0.24900\n",
      "\tTotal predictions: 7000\tTrue positives:  275\tFalse positives: 1247\tFalse negatives:  725\tTrue negatives: 4753\n",
      "\n",
      "\n",
      "total_payments\n",
      "RandomForestClassifier(bootstrap=True, class_weight=None, criterion='gini',\n",
      "            max_depth=None, max_features='auto', max_leaf_nodes=None,\n",
      "            min_impurity_decrease=0.0, min_impurity_split=None,\n",
      "            min_samples_leaf=1, min_samples_split=2,\n",
      "            min_weight_fraction_leaf=0.0, n_estimators=10, n_jobs=1,\n",
      "            oob_score=False, random_state=None, verbose=0,\n",
      "            warm_start=False)\n",
      "\tAccuracy: 0.67350\tPrecision: 0.18648\tRecall: 0.09100\tF1: 0.12231\tF2: 0.10138\n",
      "\tTotal predictions: 8000\tTrue positives:  182\tFalse positives:  794\tFalse negatives: 1818\tTrue negatives: 5206\n",
      "\n",
      "\n",
      "bonus\n",
      "RandomForestClassifier(bootstrap=True, class_weight=None, criterion='gini',\n",
      "            max_depth=None, max_features='auto', max_leaf_nodes=None,\n",
      "            min_impurity_decrease=0.0, min_impurity_split=None,\n",
      "            min_samples_leaf=1, min_samples_split=2,\n",
      "            min_weight_fraction_leaf=0.0, n_estimators=10, n_jobs=1,\n",
      "            oob_score=False, random_state=None, verbose=0,\n",
      "            warm_start=False)\n",
      "\tAccuracy: 0.76350\tPrecision: 0.30142\tRecall: 0.31800\tF1: 0.30949\tF2: 0.31454\n",
      "\tTotal predictions: 6000\tTrue positives:  318\tFalse positives:  737\tFalse negatives:  682\tTrue negatives: 4263\n",
      "\n",
      "\n",
      "total_stock_value\n",
      "RandomForestClassifier(bootstrap=True, class_weight=None, criterion='gini',\n",
      "            max_depth=None, max_features='auto', max_leaf_nodes=None,\n",
      "            min_impurity_decrease=0.0, min_impurity_split=None,\n",
      "            min_samples_leaf=1, min_samples_split=2,\n",
      "            min_weight_fraction_leaf=0.0, n_estimators=10, n_jobs=1,\n",
      "            oob_score=False, random_state=None, verbose=0,\n",
      "            warm_start=False)\n",
      "\tAccuracy: 0.80275\tPrecision: 0.28106\tRecall: 0.37100\tF1: 0.31983\tF2: 0.34868\n",
      "\tTotal predictions: 8000\tTrue positives:  371\tFalse positives:  949\tFalse negatives:  629\tTrue negatives: 6051\n",
      "\n",
      "\n",
      "expenses\n",
      "RandomForestClassifier(bootstrap=True, class_weight=None, criterion='gini',\n",
      "            max_depth=None, max_features='auto', max_leaf_nodes=None,\n",
      "            min_impurity_decrease=0.0, min_impurity_split=None,\n",
      "            min_samples_leaf=1, min_samples_split=2,\n",
      "            min_weight_fraction_leaf=0.0, n_estimators=10, n_jobs=1,\n",
      "            oob_score=False, random_state=None, verbose=0,\n",
      "            warm_start=False)\n",
      "\tAccuracy: 0.76867\tPrecision: 0.33447\tRecall: 0.39200\tF1: 0.36096\tF2: 0.37896\n",
      "\tTotal predictions: 6000\tTrue positives:  392\tFalse positives:  780\tFalse negatives:  608\tTrue negatives: 4220\n",
      "\n",
      "\n",
      "exercised_stock_options\n",
      "RandomForestClassifier(bootstrap=True, class_weight=None, criterion='gini',\n",
      "            max_depth=None, max_features='auto', max_leaf_nodes=None,\n",
      "            min_impurity_decrease=0.0, min_impurity_split=None,\n",
      "            min_samples_leaf=1, min_samples_split=2,\n",
      "            min_weight_fraction_leaf=0.0, n_estimators=10, n_jobs=1,\n",
      "            oob_score=False, random_state=None, verbose=0,\n",
      "            warm_start=False)\n",
      "\tAccuracy: 0.80600\tPrecision: 0.29566\tRecall: 0.25900\tF1: 0.27612\tF2: 0.26559\n",
      "\tTotal predictions: 7000\tTrue positives:  259\tFalse positives:  617\tFalse negatives:  741\tTrue negatives: 5383\n",
      "\n",
      "\n",
      "restricted_stock\n",
      "RandomForestClassifier(bootstrap=True, class_weight=None, criterion='gini',\n",
      "            max_depth=None, max_features='auto', max_leaf_nodes=None,\n",
      "            min_impurity_decrease=0.0, min_impurity_split=None,\n",
      "            min_samples_leaf=1, min_samples_split=2,\n",
      "            min_weight_fraction_leaf=0.0, n_estimators=10, n_jobs=1,\n",
      "            oob_score=False, random_state=None, verbose=0,\n",
      "            warm_start=False)\n",
      "\tAccuracy: 0.81037\tPrecision: 0.23810\tRecall: 0.23500\tF1: 0.23654\tF2: 0.23561\n",
      "\tTotal predictions: 8000\tTrue positives:  235\tFalse positives:  752\tFalse negatives:  765\tTrue negatives: 6248\n",
      "\n",
      "\n",
      "shared_receipt_with_poi\n",
      "RandomForestClassifier(bootstrap=True, class_weight=None, criterion='gini',\n",
      "            max_depth=None, max_features='auto', max_leaf_nodes=None,\n",
      "            min_impurity_decrease=0.0, min_impurity_split=None,\n",
      "            min_samples_leaf=1, min_samples_split=2,\n",
      "            min_weight_fraction_leaf=0.0, n_estimators=10, n_jobs=1,\n",
      "            oob_score=False, random_state=None, verbose=0,\n",
      "            warm_start=False)\n",
      "\tAccuracy: 0.83967\tPrecision: 0.25950\tRecall: 0.23900\tF1: 0.24883\tF2: 0.24284\n",
      "\tTotal predictions: 9000\tTrue positives:  239\tFalse positives:  682\tFalse negatives:  761\tTrue negatives: 7318\n",
      "\n",
      "\n",
      "to_count\n",
      "Got a divide by zero when trying out: RandomForestClassifier(bootstrap=True, class_weight=None, criterion='gini',\n",
      "            max_depth=None, max_features='auto', max_leaf_nodes=None,\n",
      "            min_impurity_decrease=0.0, min_impurity_split=None,\n",
      "            min_samples_leaf=1, min_samples_split=2,\n",
      "            min_weight_fraction_leaf=0.0, n_estimators=10, n_jobs=1,\n",
      "            oob_score=False, random_state=None, verbose=0,\n",
      "            warm_start=False)\n",
      "Precision or recall may be undefined due to a lack of true positive predicitons.\n",
      "\n",
      "from_count\n",
      "Got a divide by zero when trying out: RandomForestClassifier(bootstrap=True, class_weight=None, criterion='gini',\n",
      "            max_depth=None, max_features='auto', max_leaf_nodes=None,\n",
      "            min_impurity_decrease=0.0, min_impurity_split=None,\n",
      "            min_samples_leaf=1, min_samples_split=2,\n",
      "            min_weight_fraction_leaf=0.0, n_estimators=10, n_jobs=1,\n",
      "            oob_score=False, random_state=None, verbose=0,\n",
      "            warm_start=False)\n",
      "Precision or recall may be undefined due to a lack of true positive predicitons.\n",
      "\n",
      "ratio_to\n",
      "RandomForestClassifier(bootstrap=True, class_weight=None, criterion='gini',\n",
      "            max_depth=None, max_features='auto', max_leaf_nodes=None,\n",
      "            min_impurity_decrease=0.0, min_impurity_split=None,\n",
      "            min_samples_leaf=1, min_samples_split=2,\n",
      "            min_weight_fraction_leaf=0.0, n_estimators=10, n_jobs=1,\n",
      "            oob_score=False, random_state=None, verbose=0,\n",
      "            warm_start=False)\n",
      "\tAccuracy: 0.74057\tPrecision: 0.22470\tRecall: 0.33300\tF1: 0.26833\tF2: 0.30372\n",
      "\tTotal predictions: 7000\tTrue positives:  333\tFalse positives: 1149\tFalse negatives:  667\tTrue negatives: 4851\n",
      "\n",
      "\n",
      "ratio_from\n",
      "RandomForestClassifier(bootstrap=True, class_weight=None, criterion='gini',\n",
      "            max_depth=None, max_features='auto', max_leaf_nodes=None,\n",
      "            min_impurity_decrease=0.0, min_impurity_split=None,\n",
      "            min_samples_leaf=1, min_samples_split=2,\n",
      "            min_weight_fraction_leaf=0.0, n_estimators=10, n_jobs=1,\n",
      "            oob_score=False, random_state=None, verbose=0,\n",
      "            warm_start=False)\n",
      "\tAccuracy: 0.71637\tPrecision: 0.37649\tRecall: 0.20500\tF1: 0.26546\tF2: 0.22555\n",
      "\tTotal predictions: 8000\tTrue positives:  410\tFalse positives:  679\tFalse negatives: 1590\tTrue negatives: 5321\n",
      "\n"
     ]
    }
   ],
   "source": [
    "clf = RandomForestClassifier()\n",
    "for ii in features_list:\n",
    "    if ii != 'poi':\n",
    "\n",
    "        print '\\n',ii\n",
    "        test_classifier(clf, my_dataset, ['poi',ii])"
   ]
  },
  {
   "cell_type": "code",
   "execution_count": 234,
   "metadata": {},
   "outputs": [
    {
     "name": "stdout",
     "output_type": "stream",
     "text": [
      "RandomForestClassifier(bootstrap=True, class_weight=None, criterion='gini',\n",
      "            max_depth=None, max_features='auto', max_leaf_nodes=None,\n",
      "            min_impurity_decrease=0.0, min_impurity_split=None,\n",
      "            min_samples_leaf=1, min_samples_split=2,\n",
      "            min_weight_fraction_leaf=0.0, n_estimators=10, n_jobs=1,\n",
      "            oob_score=False, random_state=None, verbose=0,\n",
      "            warm_start=False)\n",
      "\tAccuracy: 0.81500\tPrecision: 0.32164\tRecall: 0.26600\tF1: 0.29119\tF2: 0.27553\n",
      "\tTotal predictions: 7000\tTrue positives:  266\tFalse positives:  561\tFalse negatives:  734\tTrue negatives: 5439\n",
      "\n"
     ]
    }
   ],
   "source": [
    "clf = RandomForestClassifier()\n",
    "test_classifier(clf, my_dataset, ['poi','expenses','bonus'])"
   ]
  },
  {
   "cell_type": "code",
   "execution_count": 235,
   "metadata": {},
   "outputs": [
    {
     "name": "stdout",
     "output_type": "stream",
     "text": [
      "RandomForestClassifier(bootstrap=True, class_weight=None, criterion='gini',\n",
      "            max_depth=None, max_features='auto', max_leaf_nodes=None,\n",
      "            min_impurity_decrease=0.0, min_impurity_split=None,\n",
      "            min_samples_leaf=1, min_samples_split=2,\n",
      "            min_weight_fraction_leaf=0.0, n_estimators=10, n_jobs=1,\n",
      "            oob_score=False, random_state=None, verbose=0,\n",
      "            warm_start=False)\n",
      "\tAccuracy: 0.88200\tPrecision: 0.55578\tRecall: 0.27900\tF1: 0.37150\tF2: 0.30986\n",
      "\tTotal predictions: 8000\tTrue positives:  279\tFalse positives:  223\tFalse negatives:  721\tTrue negatives: 6777\n",
      "\n"
     ]
    }
   ],
   "source": [
    "test_classifier(clf, my_dataset, ['poi','expenses','bonus','ratio_from'])"
   ]
  },
  {
   "cell_type": "code",
   "execution_count": 236,
   "metadata": {},
   "outputs": [
    {
     "name": "stdout",
     "output_type": "stream",
     "text": [
      "RandomForestClassifier(bootstrap=True, class_weight=None, criterion='gini',\n",
      "            max_depth=None, max_features='auto', max_leaf_nodes=None,\n",
      "            min_impurity_decrease=0.0, min_impurity_split=None,\n",
      "            min_samples_leaf=1, min_samples_split=2,\n",
      "            min_weight_fraction_leaf=0.0, n_estimators=10, n_jobs=1,\n",
      "            oob_score=False, random_state=None, verbose=0,\n",
      "            warm_start=False)\n",
      "\tAccuracy: 0.84444\tPrecision: 0.60365\tRecall: 0.23869\tF1: 0.34211\tF2: 0.27152\n",
      "\tTotal predictions: 9000\tTrue positives:  364\tFalse positives:  239\tFalse negatives: 1161\tTrue negatives: 7236\n",
      "\n"
     ]
    }
   ],
   "source": [
    "test_classifier(clf, my_dataset, ['poi','expenses','bonus','ratio_from','total_stock_value'])"
   ]
  },
  {
   "cell_type": "code",
   "execution_count": 237,
   "metadata": {},
   "outputs": [
    {
     "name": "stdout",
     "output_type": "stream",
     "text": [
      "RandomForestClassifier(bootstrap=True, class_weight=None, criterion='gini',\n",
      "            max_depth=None, max_features='auto', max_leaf_nodes=None,\n",
      "            min_impurity_decrease=0.0, min_impurity_split=None,\n",
      "            min_samples_leaf=1, min_samples_split=2,\n",
      "            min_weight_fraction_leaf=0.0, n_estimators=10, n_jobs=1,\n",
      "            oob_score=False, random_state=None, verbose=0,\n",
      "            warm_start=False)\n",
      "\tAccuracy: 0.84678\tPrecision: 0.62007\tRecall: 0.24721\tF1: 0.35349\tF2: 0.28101\n",
      "\tTotal predictions: 9000\tTrue positives:  377\tFalse positives:  231\tFalse negatives: 1148\tTrue negatives: 7244\n",
      "\n"
     ]
    }
   ],
   "source": [
    "test_classifier(clf, my_dataset, ['poi','expenses','bonus','total_stock_value','ratio_from'])"
   ]
  },
  {
   "cell_type": "code",
   "execution_count": 238,
   "metadata": {},
   "outputs": [
    {
     "name": "stdout",
     "output_type": "stream",
     "text": [
      "RandomForestClassifier(bootstrap=True, class_weight=None, criterion='gini',\n",
      "            max_depth=None, max_features='auto', max_leaf_nodes=None,\n",
      "            min_impurity_decrease=0.0, min_impurity_split=None,\n",
      "            min_samples_leaf=1, min_samples_split=2,\n",
      "            min_weight_fraction_leaf=0.0, n_estimators=10, n_jobs=1,\n",
      "            oob_score=False, random_state=None, verbose=0,\n",
      "            warm_start=False)\n",
      "\tAccuracy: 0.88622\tPrecision: 0.47638\tRecall: 0.24200\tF1: 0.32095\tF2: 0.26841\n",
      "\tTotal predictions: 9000\tTrue positives:  242\tFalse positives:  266\tFalse negatives:  758\tTrue negatives: 7734\n",
      "\n"
     ]
    }
   ],
   "source": [
    "test_classifier(clf, my_dataset, ['poi','expenses','bonus','ratio_from','ratio_to',\n",
    "                                  'total_stock_value','ratio_from'])"
   ]
  },
  {
   "cell_type": "code",
   "execution_count": 240,
   "metadata": {},
   "outputs": [
    {
     "name": "stdout",
     "output_type": "stream",
     "text": [
      "RandomForestClassifier(bootstrap=True, class_weight=None, criterion='gini',\n",
      "            max_depth=None, max_features='auto', max_leaf_nodes=None,\n",
      "            min_impurity_decrease=0.0, min_impurity_split=None,\n",
      "            min_samples_leaf=1, min_samples_split=2,\n",
      "            min_weight_fraction_leaf=0.0, n_estimators=10, n_jobs=1,\n",
      "            oob_score=False, random_state=None, verbose=0,\n",
      "            warm_start=False)\n",
      "\tAccuracy: 0.88967\tPrecision: 0.50728\tRecall: 0.24400\tF1: 0.32951\tF2: 0.27226\n",
      "\tTotal predictions: 9000\tTrue positives:  244\tFalse positives:  237\tFalse negatives:  756\tTrue negatives: 7763\n",
      "\n"
     ]
    }
   ],
   "source": [
    "test_classifier(clf, my_dataset, ['poi','expenses','bonus','ratio_from','ratio_to',\n",
    "                                  'total_stock_value','from_count'])"
   ]
  },
  {
   "cell_type": "code",
   "execution_count": 244,
   "metadata": {},
   "outputs": [
    {
     "name": "stdout",
     "output_type": "stream",
     "text": [
      "RandomForestClassifier(bootstrap=True, class_weight=None, criterion='gini',\n",
      "            max_depth=None, max_features='auto', max_leaf_nodes=None,\n",
      "            min_impurity_decrease=0.0, min_impurity_split=None,\n",
      "            min_samples_leaf=1, min_samples_split=2,\n",
      "            min_weight_fraction_leaf=0.0, n_estimators=10, n_jobs=1,\n",
      "            oob_score=False, random_state=None, verbose=0,\n",
      "            warm_start=False)\n",
      "\tAccuracy: 0.89400\tPrecision: 0.55374\tRecall: 0.23700\tF1: 0.33193\tF2: 0.26762\n",
      "\tTotal predictions: 9000\tTrue positives:  237\tFalse positives:  191\tFalse negatives:  763\tTrue negatives: 7809\n",
      "\n"
     ]
    }
   ],
   "source": [
    "test_classifier(clf, my_dataset, ['poi','expenses','bonus','ratio_from','ratio_to',\n",
    "                                  'total_stock_value','from_count','exercised_stock_options'])"
   ]
  },
  {
   "cell_type": "code",
   "execution_count": 245,
   "metadata": {},
   "outputs": [
    {
     "name": "stdout",
     "output_type": "stream",
     "text": [
      "RandomForestClassifier(bootstrap=True, class_weight=None, criterion='gini',\n",
      "            max_depth=None, max_features='auto', max_leaf_nodes=None,\n",
      "            min_impurity_decrease=0.0, min_impurity_split=None,\n",
      "            min_samples_leaf=1, min_samples_split=2,\n",
      "            min_weight_fraction_leaf=0.0, n_estimators=10, n_jobs=1,\n",
      "            oob_score=False, random_state=None, verbose=0,\n",
      "            warm_start=False)\n",
      "\tAccuracy: 0.89500\tPrecision: 0.56595\tRecall: 0.23600\tF1: 0.33310\tF2: 0.26715\n",
      "\tTotal predictions: 9000\tTrue positives:  236\tFalse positives:  181\tFalse negatives:  764\tTrue negatives: 7819\n",
      "\n"
     ]
    }
   ],
   "source": [
    "test_classifier(clf, my_dataset, ['poi','expenses','bonus','ratio_from','ratio_to',\n",
    "                                  'total_stock_value','from_count','to_count','exercised_stock_options'])"
   ]
  },
  {
   "cell_type": "markdown",
   "metadata": {},
   "source": [
    "Após testar a uso de features temos que temos o conjunto abaixo apresentou o melhor resultado ao equilibrar precision e recall e será utilizada para configurar o classificador."
   ]
  },
  {
   "cell_type": "code",
   "execution_count": 290,
   "metadata": {},
   "outputs": [
    {
     "name": "stdout",
     "output_type": "stream",
     "text": [
      "DecisionTreeClassifier(class_weight=None, criterion='gini', max_depth=5,\n",
      "            max_features=None, max_leaf_nodes=None,\n",
      "            min_impurity_decrease=0.0, min_impurity_split=None,\n",
      "            min_samples_leaf=1, min_samples_split=2,\n",
      "            min_weight_fraction_leaf=0.0, presort=False, random_state=None,\n",
      "            splitter='best')\n",
      "\tAccuracy: 0.82067\tPrecision: 0.26053\tRecall: 0.33400\tF1: 0.29273\tF2: 0.31617\n",
      "\tTotal predictions: 9000\tTrue positives:  334\tFalse positives:  948\tFalse negatives:  666\tTrue negatives: 7052\n",
      "\n"
     ]
    }
   ],
   "source": [
    "test_classifier(clf, my_dataset, ['poi','expenses','bonus','ratio_from','ratio_to',\n",
    "                                  'total_stock_value','exercised_stock_options'])"
   ]
  },
  {
   "cell_type": "markdown",
   "metadata": {},
   "source": [
    "#### Testando impacto das features criadas\n",
    "\n",
    "A melhor combinação de features utiliza 3 features **criadas**(ratio_to, ratio_count e from_count). O impacto da utilização pode ser visto se compararmos os resultados sem utilizar essas features."
   ]
  },
  {
   "cell_type": "code",
   "execution_count": 291,
   "metadata": {},
   "outputs": [
    {
     "name": "stdout",
     "output_type": "stream",
     "text": [
      "DecisionTreeClassifier(class_weight=None, criterion='gini', max_depth=5,\n",
      "            max_features=None, max_leaf_nodes=None,\n",
      "            min_impurity_decrease=0.0, min_impurity_split=None,\n",
      "            min_samples_leaf=1, min_samples_split=2,\n",
      "            min_weight_fraction_leaf=0.0, presort=False, random_state=None,\n",
      "            splitter='best')\n",
      "\tAccuracy: 0.81389\tPrecision: 0.25455\tRecall: 0.35000\tF1: 0.29474\tF2: 0.32558\n",
      "\tTotal predictions: 9000\tTrue positives:  350\tFalse positives: 1025\tFalse negatives:  650\tTrue negatives: 6975\n",
      "\n"
     ]
    }
   ],
   "source": [
    "test_classifier(clf, my_dataset, ['poi','expenses','bonus', 'total_stock_value','exercised_stock_options'])"
   ]
  },
  {
   "cell_type": "markdown",
   "metadata": {},
   "source": [
    "Existe uma pequena melhora em precision e recall, mas perda de acurácia."
   ]
  },
  {
   "cell_type": "markdown",
   "metadata": {},
   "source": [
    "#### Seleção de parâmetros"
   ]
  },
  {
   "cell_type": "code",
   "execution_count": 250,
   "metadata": {},
   "outputs": [
    {
     "name": "stdout",
     "output_type": "stream",
     "text": [
      "GridSearchCV(cv=None, error_score='raise',\n",
      "       estimator=RandomForestClassifier(bootstrap=True, class_weight=None, criterion='gini',\n",
      "            max_depth=None, max_features='auto', max_leaf_nodes=None,\n",
      "            min_impurity_decrease=0.0, min_impurity_split=None,\n",
      "            min_samples_leaf=1, min_samples_split=2,\n",
      "            min_weight_fraction_leaf=0.0, n_estimators=10, n_jobs=1,\n",
      "            oob_score=False, random_state=None, verbose=0,\n",
      "            warm_start=False),\n",
      "       fit_params=None, iid=True, n_jobs=1,\n",
      "       param_grid={'n_estimators': [10, 20, 30], 'min_samples_split': [2, 3, 4, 5], 'max_depth': [3, 4, 5, 6, None]},\n",
      "       pre_dispatch='2*n_jobs', refit=True, return_train_score=True,\n",
      "       scoring=None, verbose=0)\n",
      "\tAccuracy: 0.89800\tPrecision: 0.60149\tRecall: 0.24300\tF1: 0.34615\tF2: 0.27589\n",
      "\tTotal predictions: 9000\tTrue positives:  243\tFalse positives:  161\tFalse negatives:  757\tTrue negatives: 7839\n",
      "\n"
     ]
    }
   ],
   "source": [
    "clf = GridSearchCV(RandomForestClassifier(),{'n_estimators':[10,20,30], 'max_depth':[3,4,5,6,None], \n",
    "                                            'min_samples_split':[2,3,4,5]})\n",
    "test_classifier(clf, my_dataset, ['poi','expenses','bonus','ratio_from','ratio_to','total_stock_value','from_count',\n",
    "                                  'exercised_stock_options'])"
   ]
  },
  {
   "cell_type": "code",
   "execution_count": 251,
   "metadata": {},
   "outputs": [
    {
     "data": {
      "text/plain": [
       "{'max_depth': 6, 'min_samples_split': 3, 'n_estimators': 30}"
      ]
     },
     "execution_count": 251,
     "metadata": {},
     "output_type": "execute_result"
    }
   ],
   "source": [
    "clf.best_params_"
   ]
  },
  {
   "cell_type": "markdown",
   "metadata": {},
   "source": [
    "Procurando encontrar os melhores parâmetros para recall"
   ]
  },
  {
   "cell_type": "code",
   "execution_count": 252,
   "metadata": {},
   "outputs": [
    {
     "name": "stdout",
     "output_type": "stream",
     "text": [
      "GridSearchCV(cv=None, error_score='raise',\n",
      "       estimator=RandomForestClassifier(bootstrap=True, class_weight=None, criterion='gini',\n",
      "            max_depth=None, max_features='auto', max_leaf_nodes=None,\n",
      "            min_impurity_decrease=0.0, min_impurity_split=None,\n",
      "            min_samples_leaf=1, min_samples_split=2,\n",
      "            min_weight_fraction_leaf=0.0, n_estimators=10, n_jobs=1,\n",
      "            oob_score=False, random_state=None, verbose=0,\n",
      "            warm_start=False),\n",
      "       fit_params=None, iid=True, n_jobs=1,\n",
      "       param_grid={'n_estimators': [10, 20, 30], 'min_samples_split': [2, 3, 4, 5], 'max_depth': [3, 4, 5, 6, None]},\n",
      "       pre_dispatch='2*n_jobs', refit=True, return_train_score=True,\n",
      "       scoring='recall', verbose=0)\n",
      "\tAccuracy: 0.89300\tPrecision: 0.54273\tRecall: 0.23500\tF1: 0.32798\tF2: 0.26506\n",
      "\tTotal predictions: 9000\tTrue positives:  235\tFalse positives:  198\tFalse negatives:  765\tTrue negatives: 7802\n",
      "\n"
     ]
    }
   ],
   "source": [
    "clf = GridSearchCV(RandomForestClassifier(),{'n_estimators':[10,20,30], 'max_depth':[3,4,5,6,None], \n",
    "                                            'min_samples_split':[2,3,4,5]}, scoring = 'recall')\n",
    "test_classifier(clf, my_dataset, ['poi','expenses','bonus','ratio_from','ratio_to','total_stock_value','from_count',\n",
    "                                  'exercised_stock_options'])"
   ]
  },
  {
   "cell_type": "code",
   "execution_count": 253,
   "metadata": {},
   "outputs": [
    {
     "data": {
      "text/plain": [
       "{'max_depth': 6, 'min_samples_split': 5, 'n_estimators': 30}"
      ]
     },
     "execution_count": 253,
     "metadata": {},
     "output_type": "execute_result"
    }
   ],
   "source": [
    "clf.best_params_"
   ]
  },
  {
   "cell_type": "markdown",
   "metadata": {},
   "source": [
    "Testando os melhores parâmetros encontrados para recall"
   ]
  },
  {
   "cell_type": "code",
   "execution_count": 44,
   "metadata": {},
   "outputs": [
    {
     "name": "stdout",
     "output_type": "stream",
     "text": [
      "RandomForestClassifier(bootstrap=True, class_weight=None, criterion='gini',\n",
      "            max_depth=6, max_features='auto', max_leaf_nodes=None,\n",
      "            min_impurity_decrease=0.0, min_impurity_split=None,\n",
      "            min_samples_leaf=1, min_samples_split=5,\n",
      "            min_weight_fraction_leaf=0.0, n_estimators=30, n_jobs=1,\n",
      "            oob_score=False, random_state=None, verbose=0,\n",
      "            warm_start=False)\n",
      "\tAccuracy: 0.90022\tPrecision: 0.62500\tRecall: 0.25500\tF1: 0.36222\tF2: 0.28925\n",
      "\tTotal predictions: 9000\tTrue positives:  255\tFalse positives:  153\tFalse negatives:  745\tTrue negatives: 7847\n",
      "\n"
     ]
    }
   ],
   "source": [
    "clf = RandomForestClassifier(max_depth=6, min_samples_split=5, n_estimators=30)\n",
    "test_classifier(clf, my_dataset, ['poi','expenses','bonus','ratio_from','ratio_to','total_stock_value','from_count',\n",
    "                                  'exercised_stock_options'])"
   ]
  },
  {
   "cell_type": "markdown",
   "metadata": {},
   "source": [
    "Procurando os melhores parâmetros para precision"
   ]
  },
  {
   "cell_type": "code",
   "execution_count": 254,
   "metadata": {},
   "outputs": [
    {
     "name": "stdout",
     "output_type": "stream",
     "text": [
      "GridSearchCV(cv=None, error_score='raise',\n",
      "       estimator=RandomForestClassifier(bootstrap=True, class_weight=None, criterion='gini',\n",
      "            max_depth=None, max_features='auto', max_leaf_nodes=None,\n",
      "            min_impurity_decrease=0.0, min_impurity_split=None,\n",
      "            min_samples_leaf=1, min_samples_split=2,\n",
      "            min_weight_fraction_leaf=0.0, n_estimators=10, n_jobs=1,\n",
      "            oob_score=False, random_state=None, verbose=0,\n",
      "            warm_start=False),\n",
      "       fit_params=None, iid=True, n_jobs=1,\n",
      "       param_grid={'n_estimators': [10, 20, 30], 'min_samples_split': [2, 3, 4, 5], 'max_depth': [3, 4, 5, 6, None]},\n",
      "       pre_dispatch='2*n_jobs', refit=True, return_train_score=True,\n",
      "       scoring='precision', verbose=0)\n",
      "\tAccuracy: 0.89722\tPrecision: 0.59894\tRecall: 0.22700\tF1: 0.32922\tF2: 0.25919\n",
      "\tTotal predictions: 9000\tTrue positives:  227\tFalse positives:  152\tFalse negatives:  773\tTrue negatives: 7848\n",
      "\n"
     ]
    }
   ],
   "source": [
    "clf = GridSearchCV(RandomForestClassifier(),{'n_estimators':[10,20,30], 'max_depth':[3,4,5,6,None], \n",
    "                                            'min_samples_split':[2,3,4,5]}, scoring = 'precision')\n",
    "test_classifier(clf, my_dataset, ['poi','expenses','bonus','ratio_from','ratio_to','total_stock_value','from_count',\n",
    "                                  'exercised_stock_options'])"
   ]
  },
  {
   "cell_type": "code",
   "execution_count": 255,
   "metadata": {},
   "outputs": [
    {
     "data": {
      "text/plain": [
       "{'max_depth': 3, 'min_samples_split': 4, 'n_estimators': 30}"
      ]
     },
     "execution_count": 255,
     "metadata": {},
     "output_type": "execute_result"
    }
   ],
   "source": [
    "clf.best_params_"
   ]
  },
  {
   "cell_type": "markdown",
   "metadata": {},
   "source": [
    "Testando os parâmetros encontrados para precision"
   ]
  },
  {
   "cell_type": "code",
   "execution_count": 43,
   "metadata": {},
   "outputs": [
    {
     "name": "stdout",
     "output_type": "stream",
     "text": [
      "RandomForestClassifier(bootstrap=True, class_weight=None, criterion='gini',\n",
      "            max_depth=3, max_features='auto', max_leaf_nodes=None,\n",
      "            min_impurity_decrease=0.0, min_impurity_split=None,\n",
      "            min_samples_leaf=1, min_samples_split=4,\n",
      "            min_weight_fraction_leaf=0.0, n_estimators=30, n_jobs=1,\n",
      "            oob_score=False, random_state=None, verbose=0,\n",
      "            warm_start=False)\n",
      "\tAccuracy: 0.89967\tPrecision: 0.69170\tRecall: 0.17500\tF1: 0.27933\tF2: 0.20574\n",
      "\tTotal predictions: 9000\tTrue positives:  175\tFalse positives:   78\tFalse negatives:  825\tTrue negatives: 7922\n",
      "\n"
     ]
    }
   ],
   "source": [
    "clf = RandomForestClassifier(max_depth=3, min_samples_split=4, n_estimators=30)\n",
    "test_classifier(clf, my_dataset, ['poi','expenses','bonus','ratio_from','ratio_to','total_stock_value','from_count',\n",
    "                                  'exercised_stock_options'])"
   ]
  },
  {
   "cell_type": "markdown",
   "metadata": {},
   "source": [
    "Usanto todas as features no classificador"
   ]
  },
  {
   "cell_type": "code",
   "execution_count": 45,
   "metadata": {},
   "outputs": [
    {
     "name": "stdout",
     "output_type": "stream",
     "text": [
      "GridSearchCV(cv=None, error_score='raise',\n",
      "       estimator=RandomForestClassifier(bootstrap=True, class_weight=None, criterion='gini',\n",
      "            max_depth=None, max_features='auto', max_leaf_nodes=None,\n",
      "            min_impurity_decrease=0.0, min_impurity_split=None,\n",
      "            min_samples_leaf=1, min_samples_split=2,\n",
      "            min_weight_fraction_leaf=0.0, n_estimators=10, n_jobs=1,\n",
      "            oob_score=False, random_state=None, verbose=0,\n",
      "            warm_start=False),\n",
      "       fit_params=None, iid=True, n_jobs=1,\n",
      "       param_grid={'n_estimators': [30, 50, 70], 'min_samples_split': [2, 3, 4, 5], 'max_depth': [3, 4, 5, 6, None]},\n",
      "       pre_dispatch='2*n_jobs', refit=True, return_train_score=True,\n",
      "       scoring='recall', verbose=0)\n",
      "\tAccuracy: 0.88944\tPrecision: 0.50716\tRecall: 0.17700\tF1: 0.26242\tF2: 0.20350\n",
      "\tTotal predictions: 9000\tTrue positives:  177\tFalse positives:  172\tFalse negatives:  823\tTrue negatives: 7828\n",
      "\n"
     ]
    },
    {
     "data": {
      "text/plain": [
       "{'max_depth': 4, 'min_samples_split': 2, 'n_estimators': 30}"
      ]
     },
     "execution_count": 45,
     "metadata": {},
     "output_type": "execute_result"
    }
   ],
   "source": [
    "clf = GridSearchCV(RandomForestClassifier(),{'n_estimators':[30,50,70], 'max_depth':[3,4,5,6,None], \n",
    "                                            'min_samples_split':[2,3,4,5]}, scoring = 'recall')\n",
    "test_classifier(clf, my_dataset, features_list)\n",
    "\n",
    "clf.best_params_"
   ]
  },
  {
   "cell_type": "code",
   "execution_count": 47,
   "metadata": {},
   "outputs": [
    {
     "name": "stdout",
     "output_type": "stream",
     "text": [
      "RandomForestClassifier(bootstrap=True, class_weight=None, criterion='gini',\n",
      "            max_depth=4, max_features='auto', max_leaf_nodes=None,\n",
      "            min_impurity_decrease=0.0, min_impurity_split=None,\n",
      "            min_samples_leaf=1, min_samples_split=2,\n",
      "            min_weight_fraction_leaf=0.0, n_estimators=30, n_jobs=1,\n",
      "            oob_score=False, random_state=None, verbose=0,\n",
      "            warm_start=False)\n",
      "\tAccuracy: 0.88544\tPrecision: 0.45481\tRecall: 0.15600\tF1: 0.23232\tF2: 0.17960\n",
      "\tTotal predictions: 9000\tTrue positives:  156\tFalse positives:  187\tFalse negatives:  844\tTrue negatives: 7813\n",
      "\n"
     ]
    }
   ],
   "source": [
    "clf = RandomForestClassifier(max_depth=4, min_samples_split=2, n_estimators=30)\n",
    "test_classifier(clf, my_dataset, features_list)"
   ]
  },
  {
   "cell_type": "markdown",
   "metadata": {},
   "source": [
    "# Melhor resultado"
   ]
  },
  {
   "cell_type": "markdown",
   "metadata": {},
   "source": [
    "Após vários testes temos que Random Forest não conseguiu resultados melhores que Decision Tree quando olhamos precision e recall. Como foi estabelecido que ambos devem estar acima de .3 somente o classificador Decision Tree foi aceito.\n",
    "\n",
    "Os melhores parâmetros encontrados para Decision Tree classifier foram os default, exceto min_samples_split que foi determinado igual 3 para melhor ajuste.\n",
    "\n",
    "Os valores encontrados para o melhor classificador foram:\n",
    "\n",
    "> Precision = 0.62834\n",
    "\n",
    "> Recall = 0.42350\n",
    "\n",
    "> Acurracy = 0.87144\n",
    "\n",
    "> predictions = 9000\t\n",
    "\n",
    "Esse resultado foi encontrado usando somente as features poi,expenses e total_stock_value.\n",
    "\n",
    "As features criadas não foram utilizadas, embora ratio_to fizesse o valor de recall crescer em trade-off com precision que descrescia."
   ]
  },
  {
   "cell_type": "code",
   "execution_count": 54,
   "metadata": {
    "collapsed": true
   },
   "outputs": [],
   "source": [
    "features_list = ['poi','expenses','total_stock_value']"
   ]
  },
  {
   "cell_type": "code",
   "execution_count": 57,
   "metadata": {},
   "outputs": [
    {
     "name": "stdout",
     "output_type": "stream",
     "text": [
      "DecisionTreeClassifier(class_weight=None, criterion='gini', max_depth=5,\n",
      "            max_features=None, max_leaf_nodes=None,\n",
      "            min_impurity_decrease=0.0, min_impurity_split=None,\n",
      "            min_samples_leaf=1, min_samples_split=2,\n",
      "            min_weight_fraction_leaf=0.0, presort=False, random_state=None,\n",
      "            splitter='best')\n",
      "\tAccuracy: 0.81578\tPrecision: 0.62648\tRecall: 0.42350\tF1: 0.50537\tF2: 0.45284\n",
      "\tTotal predictions: 9000\tTrue positives:  847\tFalse positives:  505\tFalse negatives: 1153\tTrue negatives: 6495\n",
      "\n"
     ]
    }
   ],
   "source": [
    "clf = DecisionTreeClassifier(max_depth=5, min_samples_split=2)\n",
    "test_classifier(clf, my_dataset, features_list)"
   ]
  },
  {
   "cell_type": "code",
   "execution_count": 59,
   "metadata": {
    "collapsed": true
   },
   "outputs": [],
   "source": [
    "### Task 6: Dump your classifier, dataset, and features_list so anyone can\n",
    "### check your results. You do not need to change anything below, but make sure\n",
    "### that the version of poi_id.py that you submit can be run on its own and\n",
    "### generates the necessary .pkl files for validating your results.\n",
    "dump_classifier_and_data(clf, my_dataset, features_list)"
   ]
  }
 ],
 "metadata": {
  "anaconda-cloud": {},
  "kernelspec": {
   "display_name": "Python 2",
   "language": "python",
   "name": "python2"
  },
  "language_info": {
   "codemirror_mode": {
    "name": "ipython",
    "version": 2
   },
   "file_extension": ".py",
   "mimetype": "text/x-python",
   "name": "python",
   "nbconvert_exporter": "python",
   "pygments_lexer": "ipython2",
   "version": "2.7.13"
  }
 },
 "nbformat": 4,
 "nbformat_minor": 1
}
